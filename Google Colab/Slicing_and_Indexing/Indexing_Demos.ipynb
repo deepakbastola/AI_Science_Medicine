{
  "nbformat": 4,
  "nbformat_minor": 0,
  "metadata": {
    "colab": {
      "provenance": [],
      "include_colab_link": true
    },
    "kernelspec": {
      "name": "python3",
      "display_name": "Python 3"
    },
    "language_info": {
      "name": "python"
    }
  },
  "cells": [
    {
      "cell_type": "markdown",
      "metadata": {
        "id": "view-in-github",
        "colab_type": "text"
      },
      "source": [
        "<a href=\"https://colab.research.google.com/github/deepakbastola/AI_Science_Medicine/blob/main/Google%20Colab/Indexing_Demos.ipynb\" target=\"_parent\"><img src=\"https://colab.research.google.com/assets/colab-badge.svg\" alt=\"Open In Colab\"/></a>"
      ]
    },
    {
      "cell_type": "code",
      "metadata": {
        "id": "xOGTsXv1WHP9"
      },
      "source": [
        "import matplotlib.pyplot as plt\n",
        "from skimage.io import imread\n",
        "url = 'https://raw.githubusercontent.com/williamedwardhahn/Data_Sci/main/dataset/train/cat/download.jpg'\n",
        "url2 = 'https://media.geeksforgeeks.org/wp-content/uploads/20230329095332/RGB-arrays-combined-to-make-image.jpg'\n",
        "\n",
        "im = imread(url)\n",
        "plt.figure(figsize=(20,10))\n",
        "plt.imshow(im);\n",
        "plt.axis('off');"
      ],
      "execution_count": null,
      "outputs": []
    },
    {
      "cell_type": "code",
      "source": [
        "im.shape"
      ],
      "metadata": {
        "colab": {
          "base_uri": "https://localhost:8080/"
        },
        "id": "P4grbkDx3yzd",
        "outputId": "2239a248-1bc5-4f7b-a55b-7f017aa47138"
      },
      "execution_count": null,
      "outputs": [
        {
          "output_type": "execute_result",
          "data": {
            "text/plain": [
              "(159, 318, 3)"
            ]
          },
          "metadata": {},
          "execution_count": 29
        }
      ]
    },
    {
      "cell_type": "code",
      "source": [
        "plt.imshow(im)"
      ],
      "metadata": {
        "id": "8h71fNqH4q_N"
      },
      "execution_count": null,
      "outputs": []
    },
    {
      "cell_type": "code",
      "source": [
        "im[:,:,2].shape"
      ],
      "metadata": {
        "colab": {
          "base_uri": "https://localhost:8080/"
        },
        "id": "SF9DrIBL5VuQ",
        "outputId": "72e7cca8-7856-4397-cddf-6c00eb6d5aa4"
      },
      "execution_count": null,
      "outputs": [
        {
          "output_type": "execute_result",
          "data": {
            "text/plain": [
              "(159, 318)"
            ]
          },
          "metadata": {},
          "execution_count": 31
        }
      ]
    },
    {
      "cell_type": "code",
      "source": [
        "plt.imshow(im[:,:,0],cmap='gray')"
      ],
      "metadata": {
        "id": "RKIh-hVA5ePq"
      },
      "execution_count": null,
      "outputs": []
    },
    {
      "cell_type": "code",
      "source": [
        "plt.imshow(im[:,:,1],cmap='gray')"
      ],
      "metadata": {
        "id": "uMigqMLw5gyo"
      },
      "execution_count": null,
      "outputs": []
    },
    {
      "cell_type": "code",
      "source": [
        "plt.imshow(im[:,:,2],cmap='gray')"
      ],
      "metadata": {
        "id": "LH9ABX_F4s3n"
      },
      "execution_count": null,
      "outputs": []
    },
    {
      "cell_type": "code",
      "source": [
        "plt.imshow(im[:,:,:],cmap='gray')"
      ],
      "metadata": {
        "id": "VpQbsgoq5Gua"
      },
      "execution_count": null,
      "outputs": []
    },
    {
      "cell_type": "code",
      "source": [
        "plt.imshow(im[100:130,:,:],cmap='gray')"
      ],
      "metadata": {
        "id": "DwJDyuSI5yAq"
      },
      "execution_count": null,
      "outputs": []
    },
    {
      "cell_type": "code",
      "source": [
        "plt.imshow(im[:,140:180,:],cmap='gray')"
      ],
      "metadata": {
        "id": "sAnziQNN5-l7"
      },
      "execution_count": null,
      "outputs": []
    },
    {
      "cell_type": "code",
      "source": [
        "plt.imshow(im[100:130,140:180,0],cmap='jet')"
      ],
      "metadata": {
        "colab": {
          "base_uri": "https://localhost:8080/",
          "height": 447
        },
        "id": "-yk8T_886FWX",
        "outputId": "2c594f7b-3378-4fd3-8e12-e2af8028b8d6"
      },
      "execution_count": null,
      "outputs": [
        {
          "output_type": "execute_result",
          "data": {
            "text/plain": [
              "<matplotlib.image.AxesImage at 0x7f11e8183d00>"
            ]
          },
          "metadata": {},
          "execution_count": 41
        },
        {
          "output_type": "display_data",
          "data": {
            "text/plain": [
              "<Figure size 640x480 with 1 Axes>"
            ],
            "image/png": "[encoded data removed]"
          },
          "metadata": {}
        }
      ]
    },
    {
      "cell_type": "code",
      "source": [
        "import numpy as np"
      ],
      "metadata": {
        "id": "xKxqJYTT8Kvn"
      },
      "execution_count": null,
      "outputs": []
    },
    {
      "cell_type": "code",
      "source": [
        "W = np.zeros((100,100,3))\n",
        "plt.imshow(W)"
      ],
      "metadata": {
        "id": "Qm6rKGV26J4a"
      },
      "execution_count": null,
      "outputs": []
    },
    {
      "cell_type": "code",
      "source": [
        "W = np.ones((100,100,3))\n",
        "plt.imshow(W)"
      ],
      "metadata": {
        "id": "gFEOMV9x8O79"
      },
      "execution_count": null,
      "outputs": []
    },
    {
      "cell_type": "code",
      "source": [
        "W = np.zeros((100,100,3))\n",
        "\n",
        "W[:,:,0] = 1\n",
        "\n",
        "plt.imshow(W)"
      ],
      "metadata": {
        "id": "qK_8ZMjs8cQg"
      },
      "execution_count": null,
      "outputs": []
    },
    {
      "cell_type": "code",
      "source": [
        "W = np.zeros((100,100,3))\n",
        "\n",
        "W[:,:,1] = 1\n",
        "\n",
        "plt.imshow(W)"
      ],
      "metadata": {
        "id": "eS9bRo5W8vXu"
      },
      "execution_count": null,
      "outputs": []
    },
    {
      "cell_type": "code",
      "source": [
        "W = np.zeros((100,100,3))\n",
        "\n",
        "W[:,:,2] = 1\n",
        "\n",
        "plt.imshow(W)"
      ],
      "metadata": {
        "colab": {
          "base_uri": "https://localhost:8080/",
          "height": 450
        },
        "id": "FcPvFUzW8y9g",
        "outputId": "3edfc3c3-a077-457e-8879-ef95ce3ae5fd"
      },
      "execution_count": null,
      "outputs": [
        {
          "output_type": "execute_result",
          "data": {
            "text/plain": [
              "<matplotlib.image.AxesImage at 0x7f11dfe16ef0>"
            ]
          },
          "metadata": {},
          "execution_count": 50
        },
        {
          "output_type": "display_data",
          "data": {
            "text/plain": [
              "<Figure size 640x480 with 1 Axes>"
            ],
            "image/png": "[encoded data removed]"
          },
          "metadata": {}
        }
      ]
    },
    {
      "cell_type": "code",
      "source": [
        "W = np.zeros((100,100,3))\n",
        "\n",
        "W[0:10,:,0] = 1\n",
        "\n",
        "W[40:50,:,1] = 1\n",
        "\n",
        "W[70:80,20:25,2] = 1\n",
        "\n",
        "plt.imshow(W)"
      ],
      "metadata": {
        "colab": {
          "base_uri": "https://localhost:8080/",
          "height": 450
        },
        "id": "QtzQJJeI81Q_",
        "outputId": "b85e29fe-d670-4d3a-8cc3-11b50395974a"
      },
      "execution_count": null,
      "outputs": [
        {
          "output_type": "execute_result",
          "data": {
            "text/plain": [
              "<matplotlib.image.AxesImage at 0x7f11dfd59a50>"
            ]
          },
          "metadata": {},
          "execution_count": 53
        },
        {
          "output_type": "display_data",
          "data": {
            "text/plain": [
              "<Figure size 640x480 with 1 Axes>"
            ],
            "image/png": "[encoded data removed]"
          },
          "metadata": {}
        }
      ]
    },
    {
      "cell_type": "code",
      "source": [],
      "metadata": {
        "id": "kc3C5UZ889OZ"
      },
      "execution_count": null,
      "outputs": []
    }
  ]
}
