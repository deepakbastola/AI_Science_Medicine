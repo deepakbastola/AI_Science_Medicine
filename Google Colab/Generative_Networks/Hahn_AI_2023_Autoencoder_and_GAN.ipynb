{
  "nbformat": 4,
  "nbformat_minor": 0,
  "metadata": {
    "colab": {
      "provenance": [],
      "collapsed_sections": [
        "aqdMV6v-2o3h"
      ],
      "include_colab_link": true
    },
    "kernelspec": {
      "name": "python3",
      "display_name": "Python 3"
    },
    "language_info": {
      "name": "python"
    },
    "accelerator": "GPU"
  },
  "cells": [
    {
      "cell_type": "markdown",
      "metadata": {
        "id": "view-in-github",
        "colab_type": "text"
      },
      "source": [
        "<a href=\"https://colab.research.google.com/github/deepakbastola/AI_Science_Medicine/blob/main/Google%20Colab/Generative_Networks_Hahn_AI_2023_Autoencoder_and_GAN.ipynb\" target=\"_parent\"><img src=\"https://colab.research.google.com/assets/colab-badge.svg\" alt=\"Open In Colab\"/></a>"
      ]
    },
    {
      "cell_type": "markdown",
      "source": [
        "## Setup"
      ],
      "metadata": {
        "id": "PQsLStfxfRrO"
      }
    },
    {
      "cell_type": "markdown",
      "source": [
        "### Imports"
      ],
      "metadata": {
        "id": "X2noEVRFmHTi"
      }
    },
    {
      "cell_type": "code",
      "source": [
        "import numpy as np\n",
        "import matplotlib.pyplot as plt\n",
        "import urllib.request\n",
        "from PIL import Image\n",
        "from imageio import *\n",
        "import torch\n",
        "from skimage.transform import resize\n",
        "from mpl_toolkits.axes_grid1.axes_rgb import make_rgb_axes, RGBAxes\n",
        "from torchvision.models import *\n",
        "from torchvision.datasets import MNIST,KMNIST,FashionMNIST\n",
        "from skimage.util import montage"
      ],
      "metadata": {
        "id": "aGu2hYn5VgKS"
      },
      "execution_count": null,
      "outputs": []
    },
    {
      "cell_type": "code",
      "source": [
        "!pip install wandb\n",
        "import wandb as wb"
      ],
      "metadata": {
        "id": "O1xRGxv7AfoZ"
      },
      "execution_count": null,
      "outputs": []
    },
    {
      "cell_type": "code",
      "metadata": {
        "id": "6DQxxGNl1E1o"
      },
      "source": [
        "def plot(x):\n",
        "    if type(x) == torch.Tensor :\n",
        "        x = x.cpu().detach().numpy()\n",
        "\n",
        "    fig, ax = plt.subplots()\n",
        "    im = ax.imshow(x, cmap = 'gray')\n",
        "    ax.axis('off')\n",
        "    fig.set_size_inches(5, 5)\n",
        "    plt.show()"
      ],
      "execution_count": null,
      "outputs": []
    },
    {
      "cell_type": "code",
      "metadata": {
        "id": "wLcWTt76COK2"
      },
      "source": [
        "def montage_plot(x):\n",
        "    x = np.pad(x, pad_width=((0, 0), (1, 1), (1, 1)), mode='constant', constant_values=0)\n",
        "    plot(montage(x))"
      ],
      "execution_count": null,
      "outputs": []
    },
    {
      "cell_type": "code",
      "source": [
        "b = 1000\n",
        "\n",
        "def get_batch(mode):\n",
        "    if mode == \"train\":\n",
        "        r = np.random.randint(X.shape[0]-b) \n",
        "        x = X[r:r+b,:]\n",
        "        y = Y[r:r+b]\n",
        "    elif mode == \"test\":\n",
        "        r = np.random.randint(X_test.shape[0]-b)\n",
        "        x = X_test[r:r+b,:]\n",
        "        y = Y_test[r:r+b]\n",
        "    return x,y"
      ],
      "metadata": {
        "id": "NZaGcRW6Igar"
      },
      "execution_count": null,
      "outputs": []
    },
    {
      "cell_type": "markdown",
      "source": [
        "\n",
        "## MNIST\n",
        "    "
      ],
      "metadata": {
        "id": "gkw9kmV4NyRo"
      }
    },
    {
      "cell_type": "markdown",
      "source": [
        "### Load Data"
      ],
      "metadata": {
        "id": "Dc8TF76WPY1e"
      }
    },
    {
      "cell_type": "code",
      "metadata": {
        "id": "mm7ZMYrVEdMX"
      },
      "source": [
        "# #MNIST\n",
        "# train_set = MNIST('./data', train=True, download=True)\n",
        "# test_set  = MNIST('./data', train=False, download=True)\n",
        "\n",
        "#KMNIST\n",
        "train_set = KMNIST('./data', train=True, download=True)\n",
        "test_set =  KMNIST('./data', train=False, download=True)\n",
        "\n",
        "# Fashion MNIST\n",
        "# train_set = FashionMNIST('./data', train=True, download=True)\n",
        "# test_set =  FashionMNIST('./data', train=False, download=True)"
      ],
      "execution_count": null,
      "outputs": []
    },
    {
      "cell_type": "code",
      "metadata": {
        "id": "Ols0HivADS6a"
      },
      "source": [
        "X = train_set.data.numpy()\n",
        "X_test = test_set.data.numpy()\n",
        "Y = train_set.targets.numpy()\n",
        "Y_test = test_set.targets.numpy()\n",
        "\n",
        "X = X[:,None,:,:]/255\n",
        "X_test = X_test[:,None,:,:]/255"
      ],
      "execution_count": null,
      "outputs": []
    },
    {
      "cell_type": "code",
      "metadata": {
        "colab": {
          "base_uri": "https://localhost:8080/"
        },
        "id": "gfAjr0UBjgfs",
        "outputId": "d9398446-85c5-4f20-a7d9-ed997626e5db"
      },
      "source": [
        "X.shape"
      ],
      "execution_count": null,
      "outputs": [
        {
          "output_type": "execute_result",
          "data": {
            "text/plain": [
              "(60000, 1, 28, 28)"
            ]
          },
          "metadata": {},
          "execution_count": 8
        }
      ]
    },
    {
      "cell_type": "code",
      "metadata": {
        "id": "Ye809_jCAAxr"
      },
      "source": [
        "plot(X[101,0,:,:])"
      ],
      "execution_count": null,
      "outputs": []
    },
    {
      "cell_type": "code",
      "metadata": {
        "id": "evX7gb0YBzpe",
        "colab": {
          "base_uri": "https://localhost:8080/"
        },
        "outputId": "513b1c0b-2f4b-44f8-cd62-84c2a1f4cd87"
      },
      "source": [
        "Y[100]"
      ],
      "execution_count": null,
      "outputs": [
        {
          "output_type": "execute_result",
          "data": {
            "text/plain": [
              "0"
            ]
          },
          "metadata": {},
          "execution_count": 10
        }
      ]
    },
    {
      "cell_type": "code",
      "metadata": {
        "id": "b1ExpQONSaC_",
        "colab": {
          "base_uri": "https://localhost:8080/"
        },
        "outputId": "7f546c4e-157a-44c9-f6bb-601baafd6e60"
      },
      "source": [
        "X[0:25,0,:,:].shape"
      ],
      "execution_count": null,
      "outputs": [
        {
          "output_type": "execute_result",
          "data": {
            "text/plain": [
              "(25, 28, 28)"
            ]
          },
          "metadata": {},
          "execution_count": 11
        }
      ]
    },
    {
      "cell_type": "code",
      "metadata": {
        "id": "CHoMXjA6pWoa"
      },
      "source": [
        "montage_plot(X[125:150,0,:,:])"
      ],
      "execution_count": null,
      "outputs": []
    },
    {
      "cell_type": "code",
      "metadata": {
        "id": "fQPM_KQpD7Qd",
        "colab": {
          "base_uri": "https://localhost:8080/"
        },
        "outputId": "fbce35b8-680a-41b7-83ef-2239178db602"
      },
      "source": [
        "X.shape[0]"
      ],
      "execution_count": null,
      "outputs": [
        {
          "output_type": "execute_result",
          "data": {
            "text/plain": [
              "60000"
            ]
          },
          "metadata": {},
          "execution_count": 13
        }
      ]
    },
    {
      "cell_type": "code",
      "metadata": {
        "id": "QFqBciL5EPgM"
      },
      "source": [
        "X_test.shape"
      ],
      "execution_count": null,
      "outputs": []
    },
    {
      "cell_type": "code",
      "metadata": {
        "id": "_eAq9FpWES_1",
        "colab": {
          "base_uri": "https://localhost:8080/"
        },
        "outputId": "1356a846-f3d2-41a1-851f-1aaddb59cc97"
      },
      "source": [
        "X.shape[0]"
      ],
      "execution_count": null,
      "outputs": [
        {
          "output_type": "execute_result",
          "data": {
            "text/plain": [
              "60000"
            ]
          },
          "metadata": {},
          "execution_count": 15
        }
      ]
    },
    {
      "cell_type": "code",
      "metadata": {
        "id": "zjqCYVv7EX1d",
        "colab": {
          "base_uri": "https://localhost:8080/"
        },
        "outputId": "00e48e82-2117-462e-ef31-f71f05be33c9"
      },
      "source": [
        "X_test.shape[0]"
      ],
      "execution_count": null,
      "outputs": [
        {
          "output_type": "execute_result",
          "data": {
            "text/plain": [
              "10000"
            ]
          },
          "metadata": {},
          "execution_count": 16
        }
      ]
    },
    {
      "cell_type": "code",
      "source": [
        "def GPU(data):\n",
        "    return torch.tensor(data, requires_grad=True, dtype=torch.float, device=torch.device('cuda'))\n",
        "\n",
        "def GPU_data(data):\n",
        "    return torch.tensor(data, requires_grad=False, dtype=torch.float, device=torch.device('cuda'))"
      ],
      "metadata": {
        "id": "PyV8c4cyPAWp"
      },
      "execution_count": null,
      "outputs": []
    },
    {
      "cell_type": "code",
      "metadata": {
        "id": "zBt4rsdIefV_"
      },
      "source": [
        "X = GPU_data(X)\n",
        "Y = GPU_data(Y)\n",
        "X_test = GPU_data(X_test)\n",
        "Y_test = GPU_data(Y_test)"
      ],
      "execution_count": null,
      "outputs": []
    },
    {
      "cell_type": "code",
      "source": [
        "X = X.reshape(X.shape[0],784)\n",
        "X_test = X_test.reshape(X_test.shape[0],784)"
      ],
      "metadata": {
        "id": "qd6QY2wJ3DPk"
      },
      "execution_count": null,
      "outputs": []
    },
    {
      "cell_type": "code",
      "source": [],
      "metadata": {
        "id": "MKUw3_YO39T5"
      },
      "execution_count": null,
      "outputs": []
    },
    {
      "cell_type": "markdown",
      "source": [
        "\n",
        "### Classifier\n"
      ],
      "metadata": {
        "id": "aqdMV6v-2o3h"
      }
    },
    {
      "cell_type": "code",
      "metadata": {
        "id": "OqMKS4LqeBzy"
      },
      "source": [
        "x,y = get_batch('train')"
      ],
      "execution_count": null,
      "outputs": []
    },
    {
      "cell_type": "code",
      "metadata": {
        "id": "NvewlRZCeB20",
        "colab": {
          "base_uri": "https://localhost:8080/"
        },
        "outputId": "0fea575f-a1b4-49dd-8132-f37d20f7d4be"
      },
      "source": [
        "x.shape"
      ],
      "execution_count": null,
      "outputs": [
        {
          "output_type": "execute_result",
          "data": {
            "text/plain": [
              "torch.Size([1000, 784])"
            ]
          },
          "metadata": {},
          "execution_count": 21
        }
      ]
    },
    {
      "cell_type": "code",
      "metadata": {
        "id": "Dfywj66KFh8Y",
        "colab": {
          "base_uri": "https://localhost:8080/",
          "height": 422
        },
        "outputId": "87b2c0ed-688a-4d3d-ce4d-9093c9810b58"
      },
      "source": [
        "plot(x[0].reshape(28,28))"
      ],
      "execution_count": null,
      "outputs": [
        {
          "output_type": "display_data",
          "data": {
            "text/plain": [
              "<Figure size 500x500 with 1 Axes>"
            ],
            "image/png": "[encoded data removed]"
          },
          "metadata": {}
        }
      ]
    },
    {
      "cell_type": "code",
      "metadata": {
        "id": "ZsAhw-64HNJX",
        "colab": {
          "base_uri": "https://localhost:8080/",
          "height": 422
        },
        "outputId": "bf0f7432-6abc-4401-a591-eaae967e8401"
      },
      "source": [
        "plot(x[1].reshape(28,28))"
      ],
      "execution_count": null,
      "outputs": [
        {
          "output_type": "display_data",
          "data": {
            "text/plain": [
              "<Figure size 500x500 with 1 Axes>"
            ],
            "image/png": "[encoded data removed]"
          },
          "metadata": {}
        }
      ]
    },
    {
      "cell_type": "code",
      "metadata": {
        "id": "JfIkv97VHRaH",
        "colab": {
          "base_uri": "https://localhost:8080/",
          "height": 422
        },
        "outputId": "23ba9519-3682-4b00-c1e1-982ee7185c28"
      },
      "source": [
        "plot(x[2].reshape(28,28))"
      ],
      "execution_count": null,
      "outputs": [
        {
          "output_type": "display_data",
          "data": {
            "text/plain": [
              "<Figure size 500x500 with 1 Axes>"
            ],
            "image/png": "[encoded data removed]"
          },
          "metadata": {}
        }
      ]
    },
    {
      "cell_type": "code",
      "metadata": {
        "id": "hTYYsbmzGZzq",
        "colab": {
          "base_uri": "https://localhost:8080/"
        },
        "outputId": "0eb6268d-43e9-4513-9b91-39245ff09689"
      },
      "source": [
        "y[:10]"
      ],
      "execution_count": null,
      "outputs": [
        {
          "output_type": "execute_result",
          "data": {
            "text/plain": [
              "tensor([2., 4., 1., 2., 6., 1., 8., 7., 4., 6.], device='cuda:0')"
            ]
          },
          "metadata": {},
          "execution_count": 25
        }
      ]
    },
    {
      "cell_type": "code",
      "source": [
        "W = GPU(np.random.randn(784,10))"
      ],
      "metadata": {
        "id": "G1MmJuRKC20Q"
      },
      "execution_count": null,
      "outputs": []
    },
    {
      "cell_type": "code",
      "source": [],
      "metadata": {
        "id": "lwMdXtr_4R0q"
      },
      "execution_count": null,
      "outputs": []
    },
    {
      "cell_type": "code",
      "metadata": {
        "id": "xNugjEScFiCC",
        "colab": {
          "base_uri": "https://localhost:8080/"
        },
        "outputId": "4202b79a-06c1-4b4d-cb0f-b134633864d6"
      },
      "source": [
        "x.shape, W.shape"
      ],
      "execution_count": null,
      "outputs": [
        {
          "output_type": "execute_result",
          "data": {
            "text/plain": [
              "(torch.Size([1000, 784]), torch.Size([784, 10]))"
            ]
          },
          "metadata": {},
          "execution_count": 27
        }
      ]
    },
    {
      "cell_type": "code",
      "metadata": {
        "id": "2fKhesUrFrYo",
        "colab": {
          "base_uri": "https://localhost:8080/"
        },
        "outputId": "515e2e98-d1a8-4927-9fcb-6c22371db56a"
      },
      "source": [
        "torch.matmul(x,W).shape"
      ],
      "execution_count": null,
      "outputs": [
        {
          "output_type": "execute_result",
          "data": {
            "text/plain": [
              "torch.Size([1000, 10])"
            ]
          },
          "metadata": {},
          "execution_count": 28
        }
      ]
    },
    {
      "cell_type": "code",
      "metadata": {
        "id": "vXUJJil7VyS_",
        "colab": {
          "base_uri": "https://localhost:8080/"
        },
        "outputId": "107ea0ce-ef9b-4564-bdea-313cab2ef666"
      },
      "source": [
        "(x@W).shape"
      ],
      "execution_count": null,
      "outputs": [
        {
          "output_type": "execute_result",
          "data": {
            "text/plain": [
              "torch.Size([1000, 10])"
            ]
          },
          "metadata": {},
          "execution_count": 29
        }
      ]
    },
    {
      "cell_type": "code",
      "metadata": {
        "id": "CCUIYKR-Il3c",
        "colab": {
          "base_uri": "https://localhost:8080/"
        },
        "outputId": "2d92fa0a-6d30-41d6-df91-919f664a4a23"
      },
      "source": [
        "%%timeit\n",
        "x@W"
      ],
      "execution_count": null,
      "outputs": [
        {
          "output_type": "stream",
          "name": "stdout",
          "text": [
            "20.5 µs ± 228 ns per loop (mean ± std. dev. of 7 runs, 10000 loops each)\n"
          ]
        }
      ]
    },
    {
      "cell_type": "code",
      "metadata": {
        "id": "GlQwtdaSeB5S",
        "colab": {
          "base_uri": "https://localhost:8080/"
        },
        "outputId": "f6fcb66a-7533-40f2-84fa-3b5cbe713587"
      },
      "source": [
        "x@W"
      ],
      "execution_count": null,
      "outputs": [
        {
          "output_type": "execute_result",
          "data": {
            "text/plain": [
              "tensor([[-17.4171,  -5.1048,  -2.3461,  ...,  13.2058,  -5.2600,  12.5209],\n",
              "        [-15.5316,   3.9252,  -6.2792,  ...,  11.0007,   7.8040,   3.0145],\n",
              "        [  2.9149, -19.7439,  -2.4081,  ...,   2.2172,   6.0639,  -6.1744],\n",
              "        ...,\n",
              "        [ -6.2577,  -3.1230,   3.6709,  ...,  -2.4530,   9.4315,   5.2869],\n",
              "        [ -7.4122, -15.5815,   3.7660,  ...,  -3.9014,   5.6533,  10.3195],\n",
              "        [ -3.6269,   1.6593,  -5.4445,  ...,   3.3864,   1.2112,   3.7497]],\n",
              "       device='cuda:0', grad_fn=<MmBackward0>)"
            ]
          },
          "metadata": {},
          "execution_count": 31
        }
      ]
    },
    {
      "cell_type": "code",
      "metadata": {
        "id": "E2hgdUkmeB8W"
      },
      "source": [
        "y2 = x@W "
      ],
      "execution_count": null,
      "outputs": []
    },
    {
      "cell_type": "code",
      "metadata": {
        "id": "ZdZImnZFGeT6",
        "colab": {
          "base_uri": "https://localhost:8080/",
          "height": 422
        },
        "outputId": "5e64dcbc-a65c-47c3-e2b6-b9a631729769"
      },
      "source": [
        "plot(y2[:50])"
      ],
      "execution_count": null,
      "outputs": [
        {
          "output_type": "display_data",
          "data": {
            "text/plain": [
              "<Figure size 500x500 with 1 Axes>"
            ],
            "image/png": "[encoded data removed]"
          },
          "metadata": {}
        }
      ]
    },
    {
      "cell_type": "code",
      "metadata": {
        "id": "eQSssyK-GoB2",
        "colab": {
          "base_uri": "https://localhost:8080/"
        },
        "outputId": "b21f01e8-cefb-43f5-ed02-663bd8fe47bc"
      },
      "source": [
        "y"
      ],
      "execution_count": null,
      "outputs": [
        {
          "output_type": "execute_result",
          "data": {
            "text/plain": [
              "tensor([2., 4., 1., 2., 6., 1., 8., 7., 4., 6., 6., 3., 6., 4., 3., 2., 8., 2.,\n",
              "        1., 5., 1., 5., 0., 4., 3., 9., 5., 7., 1., 2., 5., 5., 5., 8., 8., 0.,\n",
              "        0., 1., 7., 6., 0., 7., 2., 1., 8., 9., 0., 9., 3., 0., 7., 9., 8., 2.,\n",
              "        0., 4., 4., 8., 2., 3., 8., 6., 7., 4., 1., 7., 7., 0., 6., 6., 9., 3.,\n",
              "        0., 7., 3., 6., 8., 0., 7., 7., 2., 3., 3., 5., 4., 2., 3., 7., 8., 4.,\n",
              "        5., 7., 3., 2., 2., 2., 3., 2., 1., 1., 0., 0., 8., 7., 8., 0., 8., 0.,\n",
              "        8., 6., 7., 8., 2., 6., 1., 0., 6., 8., 7., 8., 7., 7., 8., 6., 5., 0.,\n",
              "        3., 4., 3., 9., 3., 6., 2., 9., 5., 4., 8., 0., 2., 2., 0., 9., 3., 1.,\n",
              "        9., 0., 9., 3., 5., 2., 6., 7., 5., 0., 4., 7., 1., 8., 1., 6., 6., 7.,\n",
              "        4., 0., 0., 6., 8., 4., 4., 2., 8., 0., 9., 8., 1., 0., 6., 0., 4., 9.,\n",
              "        3., 2., 4., 7., 0., 5., 7., 8., 2., 3., 5., 7., 4., 3., 6., 8., 7., 4.,\n",
              "        9., 8., 7., 0., 6., 2., 6., 4., 3., 8., 4., 1., 8., 6., 5., 5., 6., 9.,\n",
              "        9., 5., 8., 6., 2., 5., 3., 3., 2., 1., 0., 1., 5., 8., 9., 5., 3., 8.,\n",
              "        4., 6., 4., 6., 8., 5., 6., 9., 9., 8., 6., 8., 7., 9., 3., 1., 9., 1.,\n",
              "        1., 9., 4., 2., 5., 8., 0., 2., 7., 4., 7., 8., 9., 5., 3., 1., 9., 3.,\n",
              "        2., 1., 7., 7., 8., 4., 5., 8., 9., 7., 1., 1., 1., 1., 0., 8., 2., 3.,\n",
              "        7., 4., 7., 9., 4., 3., 1., 8., 5., 3., 8., 1., 9., 3., 6., 7., 0., 3.,\n",
              "        5., 1., 7., 8., 5., 0., 2., 5., 1., 7., 5., 9., 7., 7., 4., 0., 4., 7.,\n",
              "        0., 7., 7., 9., 9., 7., 4., 0., 9., 5., 8., 6., 3., 1., 3., 0., 6., 9.,\n",
              "        4., 4., 0., 2., 4., 6., 4., 0., 5., 8., 6., 7., 5., 4., 0., 8., 3., 5.,\n",
              "        3., 8., 4., 7., 7., 5., 0., 2., 9., 2., 5., 3., 3., 0., 0., 0., 6., 0.,\n",
              "        1., 8., 4., 5., 5., 6., 9., 4., 2., 2., 1., 5., 2., 4., 3., 2., 9., 7.,\n",
              "        7., 7., 5., 3., 8., 2., 0., 6., 3., 8., 9., 5., 7., 8., 4., 3., 3., 3.,\n",
              "        5., 7., 9., 7., 5., 3., 5., 2., 0., 0., 3., 0., 4., 4., 0., 1., 3., 6.,\n",
              "        5., 8., 6., 8., 6., 5., 1., 5., 2., 7., 3., 9., 4., 2., 0., 0., 8., 7.,\n",
              "        0., 3., 1., 4., 5., 2., 5., 4., 4., 8., 4., 6., 7., 5., 9., 3., 7., 9.,\n",
              "        8., 5., 0., 5., 6., 0., 2., 8., 1., 1., 8., 6., 4., 5., 4., 8., 7., 4.,\n",
              "        6., 1., 4., 7., 8., 4., 4., 3., 0., 1., 8., 8., 0., 0., 3., 3., 0., 3.,\n",
              "        8., 4., 2., 1., 3., 0., 8., 1., 9., 3., 7., 9., 3., 8., 1., 4., 1., 3.,\n",
              "        9., 0., 0., 5., 9., 9., 7., 9., 1., 5., 5., 7., 1., 6., 6., 8., 0., 1.,\n",
              "        3., 7., 2., 7., 9., 6., 8., 7., 3., 0., 0., 3., 2., 4., 2., 3., 1., 9.,\n",
              "        3., 7., 8., 3., 1., 0., 2., 9., 2., 4., 6., 5., 7., 9., 7., 4., 3., 5.,\n",
              "        1., 0., 9., 2., 1., 2., 3., 1., 7., 8., 1., 8., 0., 6., 4., 9., 0., 5.,\n",
              "        0., 2., 6., 3., 1., 3., 6., 2., 5., 0., 6., 6., 6., 0., 7., 5., 9., 5.,\n",
              "        6., 7., 8., 1., 0., 7., 6., 2., 5., 1., 9., 4., 1., 2., 6., 5., 6., 9.,\n",
              "        8., 8., 7., 6., 8., 6., 1., 2., 7., 8., 2., 7., 1., 9., 0., 1., 4., 1.,\n",
              "        8., 7., 2., 7., 0., 6., 6., 8., 2., 7., 4., 6., 9., 2., 0., 2., 2., 2.,\n",
              "        1., 5., 2., 5., 6., 7., 8., 6., 6., 2., 7., 7., 2., 8., 7., 3., 6., 2.,\n",
              "        5., 5., 4., 6., 8., 0., 8., 5., 6., 9., 2., 0., 6., 2., 0., 1., 5., 2.,\n",
              "        2., 7., 6., 1., 9., 1., 6., 8., 1., 2., 0., 8., 0., 8., 5., 5., 1., 0.,\n",
              "        1., 7., 3., 7., 5., 8., 2., 1., 8., 0., 2., 7., 2., 0., 1., 3., 7., 5.,\n",
              "        4., 0., 3., 8., 7., 4., 6., 1., 4., 7., 2., 1., 5., 2., 3., 0., 0., 5.,\n",
              "        3., 2., 1., 5., 6., 8., 7., 5., 1., 1., 0., 8., 9., 0., 2., 5., 3., 9.,\n",
              "        8., 7., 2., 7., 9., 7., 1., 5., 0., 8., 3., 7., 5., 8., 5., 3., 2., 9.,\n",
              "        7., 7., 3., 6., 3., 3., 2., 9., 9., 4., 6., 3., 3., 4., 6., 5., 6., 0.,\n",
              "        3., 3., 9., 7., 9., 0., 5., 4., 1., 6., 6., 7., 2., 9., 7., 4., 3., 9.,\n",
              "        9., 1., 4., 1., 9., 5., 6., 4., 8., 4., 0., 3., 3., 9., 2., 0., 9., 3.,\n",
              "        5., 4., 5., 7., 8., 1., 8., 2., 4., 4., 0., 8., 8., 8., 0., 7., 0., 2.,\n",
              "        1., 3., 7., 9., 4., 9., 0., 6., 0., 9., 9., 6., 5., 0., 0., 5., 0., 0.,\n",
              "        0., 3., 3., 6., 3., 5., 5., 9., 8., 3., 0., 7., 3., 3., 2., 9., 8., 4.,\n",
              "        0., 3., 3., 4., 4., 0., 3., 7., 1., 7., 8., 7., 0., 7., 0., 8., 0., 9.,\n",
              "        1., 4., 4., 1., 4., 9., 8., 9., 7., 4., 7., 4., 0., 7., 1., 9., 7., 4.,\n",
              "        3., 6., 0., 7., 3., 3., 5., 9., 0., 2., 7., 3., 6., 8., 7., 5., 2., 4.,\n",
              "        5., 3., 9., 4., 3., 9., 0., 0., 4., 9., 4., 1., 1., 0., 5., 8., 5., 0.,\n",
              "        5., 9., 9., 6., 8., 4., 2., 9., 7., 4., 1., 2., 7., 0., 7., 8., 3., 9.,\n",
              "        3., 2., 6., 1., 7., 6., 7., 3., 5., 7.], device='cuda:0')"
            ]
          },
          "metadata": {},
          "execution_count": 34
        }
      ]
    },
    {
      "cell_type": "code",
      "source": [
        "y.shape"
      ],
      "metadata": {
        "id": "asy5jw0oy_F7",
        "colab": {
          "base_uri": "https://localhost:8080/"
        },
        "outputId": "36e83404-0d57-4dfe-93d1-bc6cfb323102"
      },
      "execution_count": null,
      "outputs": [
        {
          "output_type": "execute_result",
          "data": {
            "text/plain": [
              "torch.Size([1000])"
            ]
          },
          "metadata": {},
          "execution_count": 35
        }
      ]
    },
    {
      "cell_type": "code",
      "source": [
        "def one_hot(y):\n",
        "    y2 = GPU_data(torch.zeros((y.shape[0],10)))\n",
        "    for i in range(y.shape[0]):\n",
        "        y2[i,int(y[i])] = 1\n",
        "    return y2"
      ],
      "metadata": {
        "id": "BEgs4-skzhTC"
      },
      "execution_count": null,
      "outputs": []
    },
    {
      "cell_type": "code",
      "metadata": {
        "id": "EB2kNOUHGpIw"
      },
      "source": [
        "one_hot(y)"
      ],
      "execution_count": null,
      "outputs": []
    },
    {
      "cell_type": "code",
      "metadata": {
        "id": "v91JZyTQeCMp",
        "colab": {
          "base_uri": "https://localhost:8080/"
        },
        "outputId": "caef79ff-4908-4ca3-fa57-3cfadb1f1818"
      },
      "source": [
        "torch.argmax(y2,1)"
      ],
      "execution_count": null,
      "outputs": [
        {
          "output_type": "execute_result",
          "data": {
            "text/plain": [
              "tensor([3, 7, 3, 3, 7, 7, 9, 3, 7, 7, 3, 2, 4, 8, 7, 7, 3, 4, 3, 4, 7, 0, 9, 8,\n",
              "        1, 3, 8, 8, 3, 4, 0, 9, 3, 9, 8, 9, 9, 8, 8, 8, 8, 3, 4, 7, 9, 3, 8, 9,\n",
              "        4, 4, 9, 9, 7, 8, 8, 4, 8, 4, 5, 8, 8, 9, 9, 9, 8, 9, 9, 9, 2, 9, 3, 0,\n",
              "        8, 9, 9, 9, 3, 7, 9, 7, 4, 4, 9, 8, 8, 3, 4, 9, 3, 8, 1, 8, 8, 3, 7, 3,\n",
              "        4, 3, 3, 3, 9, 9, 7, 9, 4, 8, 3, 8, 5, 8, 9, 8, 8, 9, 5, 7, 4, 3, 8, 7,\n",
              "        7, 4, 3, 3, 0, 2, 4, 7, 9, 9, 0, 4, 4, 7, 3, 2, 9, 7, 2, 3, 8, 3, 9, 8,\n",
              "        9, 9, 8, 9, 3, 3, 3, 9, 0, 4, 4, 9, 4, 3, 7, 4, 3, 9, 9, 4, 9, 3, 7, 2,\n",
              "        9, 7, 7, 9, 8, 9, 4, 7, 7, 9, 4, 9, 2, 3, 8, 7, 7, 1, 0, 9, 8, 9, 9, 9,\n",
              "        2, 3, 5, 7, 9, 9, 8, 0, 9, 7, 8, 4, 4, 8, 4, 7, 9, 8, 8, 9, 9, 8, 8, 2,\n",
              "        4, 4, 9, 8, 3, 7, 8, 4, 7, 3, 4, 0, 4, 3, 8, 4, 1, 7, 2, 3, 1, 4, 3, 9,\n",
              "        9, 9, 7, 9, 4, 3, 7, 9, 4, 3, 9, 3, 1, 9, 8, 7, 9, 8, 4, 3, 9, 3, 4, 3,\n",
              "        4, 9, 3, 3, 9, 9, 6, 9, 0, 9, 4, 8, 3, 7, 7, 8, 7, 7, 3, 8, 0, 7, 3, 9,\n",
              "        9, 4, 9, 3, 4, 9, 3, 7, 9, 4, 7, 3, 0, 4, 7, 9, 8, 2, 9, 3, 9, 4, 8, 8,\n",
              "        4, 9, 3, 9, 2, 0, 9, 2, 3, 8, 7, 9, 4, 9, 3, 9, 7, 9, 7, 4, 9, 9, 0, 8,\n",
              "        4, 8, 9, 7, 4, 4, 8, 8, 9, 4, 2, 7, 0, 9, 9, 7, 3, 7, 0, 3, 9, 3, 0, 0,\n",
              "        4, 3, 3, 9, 8, 9, 4, 3, 7, 8, 9, 7, 6, 9, 4, 7, 4, 9, 4, 0, 4, 9, 8, 5,\n",
              "        4, 9, 5, 0, 1, 8, 7, 4, 4, 9, 8, 9, 9, 9, 9, 4, 3, 8, 9, 8, 9, 9, 7, 9,\n",
              "        9, 3, 2, 2, 9, 0, 9, 9, 6, 8, 8, 9, 3, 3, 9, 4, 4, 1, 8, 9, 9, 7, 1, 5,\n",
              "        9, 3, 4, 4, 4, 0, 3, 4, 3, 9, 9, 3, 7, 4, 8, 9, 8, 0, 8, 8, 8, 7, 0, 3,\n",
              "        0, 4, 0, 3, 8, 4, 9, 3, 9, 1, 8, 9, 2, 9, 9, 9, 8, 0, 4, 0, 3, 9, 3, 4,\n",
              "        4, 9, 8, 3, 7, 8, 3, 1, 0, 9, 3, 2, 9, 9, 8, 4, 7, 9, 8, 2, 8, 4, 8, 0,\n",
              "        3, 7, 2, 5, 4, 9, 3, 3, 0, 0, 9, 9, 9, 2, 3, 9, 3, 4, 4, 8, 9, 3, 9, 8,\n",
              "        4, 9, 3, 3, 9, 9, 3, 9, 2, 2, 7, 7, 3, 9, 7, 9, 7, 4, 7, 9, 1, 9, 8, 8,\n",
              "        3, 7, 4, 4, 5, 4, 8, 9, 9, 9, 3, 8, 7, 9, 2, 7, 8, 9, 8, 9, 9, 8, 8, 9,\n",
              "        3, 4, 7, 0, 8, 7, 3, 3, 9, 3, 7, 3, 9, 4, 8, 9, 9, 0, 1, 9, 7, 1, 7, 8,\n",
              "        4, 3, 9, 7, 0, 4, 8, 9, 9, 3, 7, 9, 4, 2, 3, 7, 7, 2, 3, 1, 9, 8, 4, 1,\n",
              "        4, 3, 3, 5, 7, 8, 4, 8, 9, 4, 7, 5, 3, 6, 9, 9, 7, 9, 3, 9, 8, 4, 1, 9,\n",
              "        9, 9, 3, 9, 8, 0, 3, 8, 7, 4, 8, 4, 6, 7, 9, 3, 3, 3, 8, 9, 3, 3, 7, 0,\n",
              "        8, 4, 7, 4, 9, 9, 3, 4, 8, 8, 0, 2, 3, 9, 9, 0, 7, 4, 9, 9, 3, 8, 4, 9,\n",
              "        7, 3, 8, 3, 7, 3, 3, 9, 8, 3, 2, 8, 3, 6, 1, 1, 8, 6, 9, 0, 4, 4, 3, 4,\n",
              "        1, 7, 9, 9, 8, 3, 3, 3, 4, 8, 0, 9, 3, 8, 0, 9, 6, 9, 9, 9, 9, 4, 3, 1,\n",
              "        4, 3, 8, 8, 9, 5, 1, 3, 4, 8, 8, 3, 9, 1, 9, 9, 3, 4, 8, 9, 1, 1, 9, 7,\n",
              "        4, 7, 0, 4, 9, 4, 9, 9, 7, 9, 7, 6, 3, 9, 8, 8, 3, 8, 9, 7, 7, 2, 0, 4,\n",
              "        9, 8, 9, 8, 4, 9, 7, 8, 3, 3, 4, 9, 4, 2, 3, 3, 4, 8, 2, 9, 7, 4, 7, 9,\n",
              "        2, 1, 1, 3, 0, 9, 9, 7, 9, 8, 4, 0, 9, 3, 9, 9, 4, 4, 4, 4, 8, 7, 8, 2,\n",
              "        0, 0, 9, 7, 9, 9, 9, 4, 8, 9, 3, 7, 7, 3, 2, 4, 4, 3, 8, 9, 8, 7, 8, 3,\n",
              "        4, 4, 9, 0, 4, 2, 8, 7, 9, 9, 7, 4, 9, 8, 8, 7, 9, 9, 7, 9, 4, 5, 9, 4,\n",
              "        9, 2, 3, 9, 8, 9, 9, 9, 3, 7, 8, 4, 8, 7, 1, 8, 7, 9, 9, 8, 3, 9, 7, 9,\n",
              "        9, 9, 4, 4, 8, 8, 3, 4, 0, 3, 1, 9, 3, 0, 8, 3, 7, 8, 9, 9, 2, 2, 9, 9,\n",
              "        9, 4, 9, 7, 9, 9, 9, 6, 8, 4, 9, 4, 3, 8, 5, 3, 3, 8, 3, 4, 9, 3, 0, 9,\n",
              "        4, 4, 9, 0, 9, 3, 7, 8, 0, 3, 9, 4, 7, 9, 4, 8, 3, 8, 3, 9, 5, 9, 3, 9,\n",
              "        9, 9, 8, 7, 0, 9, 0, 7, 7, 3, 9, 3, 8, 8, 4, 3], device='cuda:0')"
            ]
          },
          "metadata": {},
          "execution_count": 38
        }
      ]
    },
    {
      "cell_type": "code",
      "metadata": {
        "id": "0hfl1lKrguTg",
        "colab": {
          "base_uri": "https://localhost:8080/"
        },
        "outputId": "a945c475-0d01-4bd2-fe96-941a45126a0f"
      },
      "source": [
        "torch.sum(y == torch.argmax(y2,1))/b"
      ],
      "execution_count": null,
      "outputs": [
        {
          "output_type": "execute_result",
          "data": {
            "text/plain": [
              "tensor(0.0890, device='cuda:0')"
            ]
          },
          "metadata": {},
          "execution_count": 39
        }
      ]
    },
    {
      "cell_type": "code",
      "metadata": {
        "id": "xz7Ea13HwarC",
        "colab": {
          "base_uri": "https://localhost:8080/"
        },
        "outputId": "1ea4d8b6-d62d-44f6-f928-c2b0318abb79"
      },
      "source": [
        "X.shape"
      ],
      "execution_count": null,
      "outputs": [
        {
          "output_type": "execute_result",
          "data": {
            "text/plain": [
              "torch.Size([60000, 784])"
            ]
          },
          "metadata": {},
          "execution_count": 40
        }
      ]
    },
    {
      "cell_type": "code",
      "metadata": {
        "id": "FNP2ahywwatJ",
        "colab": {
          "base_uri": "https://localhost:8080/"
        },
        "outputId": "2c3db591-68fb-46ee-e06a-7408def8fd7b"
      },
      "source": [
        "X@W"
      ],
      "execution_count": null,
      "outputs": [
        {
          "output_type": "execute_result",
          "data": {
            "text/plain": [
              "tensor([[  9.0850,  -5.3724,   6.1245,  ...,   1.9338,   6.6725,   7.3011],\n",
              "        [ 14.6716,   3.0929, -21.4242,  ...,   4.2271,  11.9587,  32.1521],\n",
              "        [ -4.9606,   9.6050,  -5.5340,  ..., -11.9963,  24.4383,   4.5722],\n",
              "        ...,\n",
              "        [  7.1590,  -9.8809, -17.1827,  ...,  17.9603,   9.4393,  12.5729],\n",
              "        [  2.6450,   8.3020,  -1.5425,  ...,  12.4378,   5.6433,  21.9068],\n",
              "        [  0.5676,  -8.7371,  -8.4432,  ...,  23.9717,  17.7174,   5.3518]],\n",
              "       device='cuda:0', grad_fn=<MmBackward0>)"
            ]
          },
          "metadata": {},
          "execution_count": 41
        }
      ]
    },
    {
      "cell_type": "code",
      "metadata": {
        "id": "WbGDRj7BwavA",
        "colab": {
          "base_uri": "https://localhost:8080/"
        },
        "outputId": "b2dd513b-284c-42da-c897-8ee84f05360b"
      },
      "source": [
        "torch.argmax(X@W,1)"
      ],
      "execution_count": null,
      "outputs": [
        {
          "output_type": "execute_result",
          "data": {
            "text/plain": [
              "tensor([6, 9, 8,  ..., 7, 9, 4], device='cuda:0')"
            ]
          },
          "metadata": {},
          "execution_count": 42
        }
      ]
    },
    {
      "cell_type": "code",
      "metadata": {
        "id": "EXTb4Y4ywaw3",
        "colab": {
          "base_uri": "https://localhost:8080/"
        },
        "outputId": "1a223883-06e6-4027-f3f5-1a1ab717757f"
      },
      "source": [
        "Y"
      ],
      "execution_count": null,
      "outputs": [
        {
          "output_type": "execute_result",
          "data": {
            "text/plain": [
              "tensor([8., 7., 0.,  ..., 0., 4., 9.], device='cuda:0')"
            ]
          },
          "metadata": {},
          "execution_count": 43
        }
      ]
    },
    {
      "cell_type": "code",
      "metadata": {
        "id": "h_w3ksHVjQwu",
        "colab": {
          "base_uri": "https://localhost:8080/"
        },
        "outputId": "0f771e0d-ebb4-4c38-d7ac-4030e54849bf"
      },
      "source": [
        "torch.sum(torch.argmax(X@W,1) == Y)/60000"
      ],
      "execution_count": null,
      "outputs": [
        {
          "output_type": "execute_result",
          "data": {
            "text/plain": [
              "tensor(0.0841, device='cuda:0')"
            ]
          },
          "metadata": {},
          "execution_count": 44
        }
      ]
    },
    {
      "cell_type": "code",
      "metadata": {
        "id": "n6RKfzVLnOTD",
        "colab": {
          "base_uri": "https://localhost:8080/"
        },
        "outputId": "a961418d-15d8-4795-af98-6e50ff947d93"
      },
      "source": [
        "X@W"
      ],
      "execution_count": null,
      "outputs": [
        {
          "output_type": "execute_result",
          "data": {
            "text/plain": [
              "tensor([[  9.0850,  -5.3724,   6.1245,  ...,   1.9338,   6.6725,   7.3011],\n",
              "        [ 14.6716,   3.0929, -21.4242,  ...,   4.2271,  11.9587,  32.1521],\n",
              "        [ -4.9606,   9.6050,  -5.5340,  ..., -11.9963,  24.4383,   4.5722],\n",
              "        ...,\n",
              "        [  7.1590,  -9.8809, -17.1827,  ...,  17.9603,   9.4393,  12.5729],\n",
              "        [  2.6450,   8.3020,  -1.5425,  ...,  12.4378,   5.6433,  21.9068],\n",
              "        [  0.5676,  -8.7371,  -8.4432,  ...,  23.9717,  17.7174,   5.3518]],\n",
              "       device='cuda:0', grad_fn=<MmBackward0>)"
            ]
          },
          "metadata": {},
          "execution_count": 45
        }
      ]
    },
    {
      "cell_type": "code",
      "metadata": {
        "id": "GpOVv7nInOUw",
        "colab": {
          "base_uri": "https://localhost:8080/"
        },
        "outputId": "68960bad-67c9-441a-e160-9238d3b25681"
      },
      "source": [
        "W.shape"
      ],
      "execution_count": null,
      "outputs": [
        {
          "output_type": "execute_result",
          "data": {
            "text/plain": [
              "torch.Size([784, 10])"
            ]
          },
          "metadata": {},
          "execution_count": 46
        }
      ]
    },
    {
      "cell_type": "code",
      "metadata": {
        "id": "IRq_ouBUnOWx",
        "colab": {
          "base_uri": "https://localhost:8080/"
        },
        "outputId": "c1b762d2-4965-469c-ac58-3aa69f61a955"
      },
      "source": [
        "W[:,0].shape"
      ],
      "execution_count": null,
      "outputs": [
        {
          "output_type": "execute_result",
          "data": {
            "text/plain": [
              "torch.Size([784])"
            ]
          },
          "metadata": {},
          "execution_count": 47
        }
      ]
    },
    {
      "cell_type": "code",
      "metadata": {
        "id": "uYWJulTHnOa1",
        "colab": {
          "base_uri": "https://localhost:8080/",
          "height": 422
        },
        "outputId": "550dfbd8-3d54-4606-b443-645d7660441f"
      },
      "source": [
        "plot(W[:,0].reshape(28,28))"
      ],
      "execution_count": null,
      "outputs": [
        {
          "output_type": "display_data",
          "data": {
            "text/plain": [
              "<Figure size 500x500 with 1 Axes>"
            ],
            "image/png": "[encoded data removed]"
          },
          "metadata": {}
        }
      ]
    },
    {
      "cell_type": "code",
      "metadata": {
        "id": "tupFwuSZnOk9",
        "colab": {
          "base_uri": "https://localhost:8080/",
          "height": 422
        },
        "outputId": "382355ae-5f3e-4529-b949-b85f9a5b56c5"
      },
      "source": [
        "plot(W[:,2].reshape(28,28))"
      ],
      "execution_count": null,
      "outputs": [
        {
          "output_type": "display_data",
          "data": {
            "text/plain": [
              "<Figure size 500x500 with 1 Axes>"
            ],
            "image/png": "[encoded data removed]"
          },
          "metadata": {}
        }
      ]
    },
    {
      "cell_type": "code",
      "metadata": {
        "id": "Wvvy6MrAkC5Z",
        "colab": {
          "base_uri": "https://localhost:8080/"
        },
        "outputId": "281e6333-41c8-4afc-d7df-67aa8ed32c4b"
      },
      "source": [
        "W.shape"
      ],
      "execution_count": null,
      "outputs": [
        {
          "output_type": "execute_result",
          "data": {
            "text/plain": [
              "torch.Size([784, 10])"
            ]
          },
          "metadata": {},
          "execution_count": 50
        }
      ]
    },
    {
      "cell_type": "code",
      "metadata": {
        "id": "MCrJ9cNPkC76",
        "colab": {
          "base_uri": "https://localhost:8080/"
        },
        "outputId": "9e931e51-c389-4374-e133-c80dcf91fa96"
      },
      "source": [
        "(W.T).shape"
      ],
      "execution_count": null,
      "outputs": [
        {
          "output_type": "execute_result",
          "data": {
            "text/plain": [
              "torch.Size([10, 784])"
            ]
          },
          "metadata": {},
          "execution_count": 51
        }
      ]
    },
    {
      "cell_type": "code",
      "metadata": {
        "id": "wAkEKB2_jQyy",
        "colab": {
          "base_uri": "https://localhost:8080/",
          "height": 422
        },
        "outputId": "0357f592-12df-4d38-cb70-34441e435664"
      },
      "source": [
        "montage_plot((W.T).reshape(10,28,28).cpu().detach().numpy())"
      ],
      "execution_count": null,
      "outputs": [
        {
          "output_type": "display_data",
          "data": {
            "text/plain": [
              "<Figure size 500x500 with 1 Axes>"
            ],
            "image/png": "[encoded data removed]"
          },
          "metadata": {}
        }
      ]
    },
    {
      "cell_type": "code",
      "metadata": {
        "id": "m4BlYG-CgC2z"
      },
      "source": [
        "def softmax(x):\n",
        "    s1 = torch.exp(x - torch.max(x,1)[0][:,None])\n",
        "    s = s1 / s1.sum(1)[:,None]\n",
        "    return s"
      ],
      "execution_count": null,
      "outputs": []
    },
    {
      "cell_type": "code",
      "metadata": {
        "id": "XZ-UV8W_c_9o"
      },
      "source": [
        "def cross_entropy(outputs, labels):            \n",
        "    return -torch.sum(softmax(outputs).log()[range(outputs.size()[0]), labels.long()])/outputs.size()[0]  "
      ],
      "execution_count": null,
      "outputs": []
    },
    {
      "cell_type": "code",
      "metadata": {
        "id": "LW3ttVcq1sI9"
      },
      "source": [
        "def acc(out,y):\n",
        "    return (torch.sum(torch.max(out,1)[1] == y).item())/y.shape[0]"
      ],
      "execution_count": null,
      "outputs": []
    },
    {
      "cell_type": "code",
      "metadata": {
        "id": "x79Sie8XKPOC"
      },
      "source": [
        "def get_batch(mode):\n",
        "    b = c.b\n",
        "    if mode == \"train\":\n",
        "        r = np.random.randint(X.shape[0]-b) \n",
        "        x = X[r:r+b,:]\n",
        "        y = Y[r:r+b]\n",
        "    elif mode == \"test\":\n",
        "        r = np.random.randint(X_test.shape[0]-b)\n",
        "        x = X_test[r:r+b,:]\n",
        "        y = Y_test[r:r+b]\n",
        "    return x,y"
      ],
      "execution_count": null,
      "outputs": []
    },
    {
      "cell_type": "code",
      "metadata": {
        "id": "vXOr9aM8A8P-"
      },
      "source": [
        "def model(x,w):\n",
        "\n",
        "    return x@w[0]"
      ],
      "execution_count": null,
      "outputs": []
    },
    {
      "cell_type": "code",
      "metadata": {
        "id": "-k6j0lacnYYk"
      },
      "source": [
        "def gradient_step(w):\n",
        "\n",
        "    w[0].data = w[0].data - c.L*w[0].grad.data\n",
        "    \n",
        "    w[0].grad.data.zero_()"
      ],
      "execution_count": null,
      "outputs": []
    },
    {
      "cell_type": "code",
      "metadata": {
        "id": "uzRsuDek9Fve"
      },
      "source": [
        "def make_plots():\n",
        "    \n",
        "    acc_train = acc(model(x,w),y)\n",
        "    \n",
        "    xt,yt = get_batch('test')\n",
        "\n",
        "    acc_test = acc(model(xt,w),yt)\n",
        "\n",
        "    wb.log({\"acc_train\": acc_train, \"acc_test\": acc_test})"
      ],
      "execution_count": null,
      "outputs": []
    },
    {
      "cell_type": "code",
      "source": [
        "def Truncated_Normal(size):\n",
        "\n",
        "    u1 = torch.rand(size)*(1-np.exp(-2)) + np.exp(-2)\n",
        "    u2 = torch.rand(size)\n",
        "    z  = torch.sqrt(-2*torch.log(u1)) * torch.cos(2*np.pi*u2)\n",
        "\n",
        "    return z"
      ],
      "metadata": {
        "id": "fx6a-FjX6bEN"
      },
      "execution_count": null,
      "outputs": []
    },
    {
      "cell_type": "code",
      "metadata": {
        "id": "v_6a6qnKA7zP"
      },
      "source": [
        "for run in range(100):\n",
        "\n",
        "    wb.init(project=\"Simple_Linear_SGD_23\");\n",
        "    c = wb.config\n",
        "\n",
        "    c.L = 0.1\n",
        "    c.b = 1024\n",
        "    c.epochs = 10000\n",
        "\n",
        "    w = [GPU(Truncated_Normal((784,10)))]\n",
        "\n",
        "    for i in range(c.epochs):\n",
        "\n",
        "        x,y = get_batch('train')\n",
        "\n",
        "        out = model(x,w)\n",
        "\n",
        "        loss = cross_entropy(softmax(out),y)\n",
        "\n",
        "        loss.backward()\n",
        "\n",
        "        gradient_step(w)\n",
        "\n",
        "        make_plots()\n",
        "    \n",
        "        if (i+1) % 10000 == 0: montage_plot((w[0].T).reshape(10,28,28).cpu().detach().numpy())"
      ],
      "execution_count": null,
      "outputs": []
    },
    {
      "cell_type": "code",
      "metadata": {
        "id": "WANJibeUNghZ"
      },
      "source": [
        "for run in range(100):\n",
        "\n",
        "    wb.init(project=\"Simple_Linear_Adam_2\");\n",
        "    c = wb.config\n",
        "\n",
        "    c.L = 0.01\n",
        "    c.b = 1024\n",
        "    c.epochs = 100000\n",
        "\n",
        "    w = [GPU(Truncated_Normal((784,10)))]\n",
        "\n",
        "    optimizer = torch.optim.Adam(w, lr=c.L)  \n",
        "\n",
        "    for i in range(c.epochs):\n",
        "\n",
        "        x,y = get_batch('train')\n",
        "\n",
        "        loss = cross_entropy(softmax(model(x,w)),y)\n",
        "\n",
        "        optimizer.zero_grad()\n",
        "        loss.backward()\n",
        "        optimizer.step()\n",
        "    \n",
        "        wb.log({\"loss\": loss})\n",
        "\n",
        "        make_plots()\n",
        "\n",
        "        if i % 10000 == 0 : montage_plot((w[0].T).reshape(10,28,28).cpu().detach().numpy())"
      ],
      "execution_count": null,
      "outputs": []
    },
    {
      "cell_type": "markdown",
      "source": [
        "\n",
        "### Autoencoder\n"
      ],
      "metadata": {
        "id": "MMkIx6bTNy8g"
      }
    },
    {
      "cell_type": "code",
      "source": [
        "!pip install git+https://github.com/williamedwardhahn/mpcr\n",
        "from mpcr import *"
      ],
      "metadata": {
        "id": "puhEPSME9GID"
      },
      "execution_count": null,
      "outputs": []
    },
    {
      "cell_type": "code",
      "source": [
        "def get_batch(mode):\n",
        "    b = 1024\n",
        "    if mode == \"train\":\n",
        "        r = np.random.randint(X.shape[0]-b) \n",
        "        x = X[r:r+b,:]\n",
        "        y = Y[r:r+b]\n",
        "    elif mode == \"test\":\n",
        "        r = np.random.randint(X_test.shape[0]-b)\n",
        "        x = X_test[r:r+b,:]\n",
        "        y = Y_test[r:r+b]\n",
        "    return x,y"
      ],
      "metadata": {
        "id": "7QaW3xn0-M-l"
      },
      "execution_count": null,
      "outputs": []
    },
    {
      "cell_type": "code",
      "source": [
        "X = X.reshape(X.shape[0],1,28,28)\n",
        "X_test = X_test.reshape(X_test.shape[0],1,28,28)"
      ],
      "metadata": {
        "id": "WBQQOXS7XU-k"
      },
      "execution_count": null,
      "outputs": []
    },
    {
      "cell_type": "code",
      "source": [
        "X = torchvision.transforms.functional.normalize(X,0.5,0.5)\n",
        "X_test = torchvision.transforms.functional.normalize(X_test,0.5,0.5)"
      ],
      "metadata": {
        "id": "N4StPT7VBG9O"
      },
      "execution_count": null,
      "outputs": []
    },
    {
      "cell_type": "code",
      "metadata": {
        "id": "UafuXvzKjSw7"
      },
      "source": [
        "def Encoder(x,w):\n",
        "    x = relu(conv2d(x,w[0], stride=(2, 2), padding=(1, 1)))\n",
        "    x = relu(conv2d(x,w[1], stride=(2, 2), padding=(1, 1)))\n",
        "    x = x.view(x.size(0), 6272)\n",
        "    x = linear(x,w[2])\n",
        "    return x"
      ],
      "execution_count": null,
      "outputs": []
    },
    {
      "cell_type": "code",
      "metadata": {
        "id": "ivvSdA3VjSw_"
      },
      "source": [
        "def Decoder(x,w):\n",
        "    x = linear(x,w[3])\n",
        "    x = x.view(x.size(0), 128, 7, 7)\n",
        "    x = relu(conv_transpose2d(x,w[4], stride=(2, 2), padding=(1, 1)))\n",
        "    x = torch.tanh(conv_transpose2d(x,w[5], stride=(2, 2), padding=(1, 1)))\n",
        "    return x"
      ],
      "execution_count": null,
      "outputs": []
    },
    {
      "cell_type": "code",
      "metadata": {
        "id": "R8TLNLTkjSxG"
      },
      "source": [
        "def Autoencoder(x,w):\n",
        "    return Decoder(Encoder(x,w),w)"
      ],
      "execution_count": null,
      "outputs": []
    },
    {
      "cell_type": "code",
      "metadata": {
        "id": "-iw6YTpBU8sr"
      },
      "source": [
        "num_steps = 1000\n",
        "batch_size = 512\n",
        "learning_rate = 1e-3"
      ],
      "execution_count": null,
      "outputs": []
    },
    {
      "cell_type": "code",
      "metadata": {
        "scrolled": true,
        "id": "Au5YND2GU8sr"
      },
      "source": [
        "#Encode\n",
        "w0 = GPU(randn_trunc((64,1,4,4)))\n",
        "w1 = GPU(randn_trunc((128,64,4,4)))\n",
        "w2 = GPU(randn_trunc((10,6272)))\n",
        "#Decode\n",
        "w3 = GPU(randn_trunc((6272,10)))\n",
        "w4 = GPU(randn_trunc((128,64,4,4)))\n",
        "w5 = GPU(randn_trunc((64,1,4,4)))\n",
        "\n",
        "w = [w0,w1,w2,w3,w4,w5]\n",
        "\n",
        "optimizer = torch.optim.Adam(params=w, lr=learning_rate)\n",
        "\n",
        "for i in range(num_steps):\n",
        "\n",
        "    x_real,y = get_batch('train')\n",
        "    \n",
        "    x_fake = Autoencoder(x_real,w)\n",
        "    \n",
        "    loss = torch.mean((x_fake - x_real)**2)\n",
        "\n",
        "    optimizer.zero_grad()\n",
        "    loss.backward()\n",
        "    optimizer.step() \n",
        "\n",
        "    if i % 100 == 0: print(loss.item())"
      ],
      "execution_count": null,
      "outputs": []
    },
    {
      "cell_type": "code",
      "source": [
        "image_batch,y = get_batch('test')"
      ],
      "metadata": {
        "id": "9KtDnM_cXeJf"
      },
      "execution_count": null,
      "outputs": []
    },
    {
      "cell_type": "code",
      "source": [
        "image_batch_recon = Autoencoder(image_batch,w)"
      ],
      "metadata": {
        "id": "cUHiRtNJXeMM"
      },
      "execution_count": null,
      "outputs": []
    },
    {
      "cell_type": "code",
      "source": [
        "torch.mean((image_batch_recon - image_batch)**2)"
      ],
      "metadata": {
        "id": "kAvWP-HRXeYy"
      },
      "execution_count": null,
      "outputs": []
    },
    {
      "cell_type": "code",
      "source": [
        "montage_plot(image_batch[0:25,0,:,:].cpu().detach().numpy())"
      ],
      "metadata": {
        "id": "j9GNtjyxTrLg"
      },
      "execution_count": null,
      "outputs": []
    },
    {
      "cell_type": "code",
      "source": [
        "montage_plot(image_batch_recon[0:25,0,:,:].cpu().detach().numpy())"
      ],
      "metadata": {
        "id": "Mc87oPuJYFqx"
      },
      "execution_count": null,
      "outputs": []
    },
    {
      "cell_type": "markdown",
      "source": [
        "\n",
        "### Generator\n",
        "\n"
      ],
      "metadata": {
        "id": "x4_p3zNkNz85"
      }
    },
    {
      "cell_type": "markdown",
      "metadata": {
        "id": "UK8bENQBO5cf"
      },
      "source": [
        "Convolutional Transpose"
      ]
    },
    {
      "cell_type": "code",
      "metadata": {
        "id": "JlUcx8nAOv2J"
      },
      "source": [
        "latent_size = 64\n",
        "hidden_size = 256\n",
        "image_size = 784\n",
        "b = 32"
      ],
      "execution_count": null,
      "outputs": []
    },
    {
      "cell_type": "code",
      "metadata": {
        "id": "6DdMqwO6Ov2R"
      },
      "source": [
        "#MNIST\n",
        "# train_set = datasets.MNIST('./data', train=True, download=True)\n",
        "# test_set = datasets.MNIST('./data', train=False, download=True)\n",
        "\n",
        "#KMNIST\n",
        "#train_set = datasets.KMNIST('./data', train=True, download=True)\n",
        "#test_set = datasets.KMNIST('./data', train=False, download=True)\n",
        "\n",
        "#Fashion MNIST\n",
        "train_set = datasets.FashionMNIST('./data', train=True, download=True)\n",
        "test_set = datasets.FashionMNIST('./data', train=False, download=True)"
      ],
      "execution_count": null,
      "outputs": []
    },
    {
      "cell_type": "code",
      "metadata": {
        "id": "zDtyhqfpOv2W"
      },
      "source": [
        "X = train_set.data.numpy()\n",
        "X_test = test_set.data.numpy()\n",
        "Y = train_set.targets.numpy()\n",
        "Y_test = test_set.targets.numpy()\n",
        "X = X[:,None,:,:]/255\n",
        "X_test = X_test[:,None,:,:]/255\n",
        "X = (X - 0.5)/0.5\n",
        "X_test = (X_test - 0.5)/0.5"
      ],
      "execution_count": null,
      "outputs": []
    },
    {
      "cell_type": "code",
      "metadata": {
        "id": "brvz6j8oOv2d"
      },
      "source": [
        "n = 7\n",
        "\n",
        "index = np.where(Y == n)\n",
        "X = X[index]\n",
        "index = np.where(Y_test == n)\n",
        "X_test = X_test[index]"
      ],
      "execution_count": null,
      "outputs": []
    },
    {
      "cell_type": "code",
      "metadata": {
        "id": "8jCql6k3Ov2j"
      },
      "source": [
        "X.shape,Y.shape,X_test.shape,Y_test.shape"
      ],
      "execution_count": null,
      "outputs": []
    },
    {
      "cell_type": "code",
      "metadata": {
        "id": "9KkJf-T3Ov2o"
      },
      "source": [
        "###################################################"
      ],
      "execution_count": null,
      "outputs": []
    },
    {
      "cell_type": "code",
      "metadata": {
        "id": "6XeXzhnBOv2u"
      },
      "source": [
        "X = GPU_data(X)\n",
        "X_test = GPU_data(X_test)\n",
        "Y = GPU_data(Y)\n",
        "Y_test = GPU_data(Y_test)"
      ],
      "execution_count": null,
      "outputs": []
    },
    {
      "cell_type": "code",
      "metadata": {
        "id": "rbvvO0rKOv23"
      },
      "source": [
        "x,y = get_batch('train')"
      ],
      "execution_count": null,
      "outputs": []
    },
    {
      "cell_type": "code",
      "metadata": {
        "id": "-IiEebSMOv28"
      },
      "source": [
        "montage_plot(x[0:25,0,:,:].detach().cpu().numpy())"
      ],
      "execution_count": null,
      "outputs": []
    },
    {
      "cell_type": "code",
      "metadata": {
        "id": "4zTk44kcNWFX"
      },
      "source": [
        "#D\n",
        "w0 = GPU(randn_trunc((64,1,4,4)))\n",
        "w1 = GPU(randn_trunc((128,64,4,4)))\n",
        "w2 = GPU(randn_trunc((1,6272)))\n",
        "#G\n",
        "w3 = GPU(randn_trunc((6272,64)))\n",
        "w4 = GPU(randn_trunc((128,64,4,4)))\n",
        "w5 = GPU(randn_trunc((64,1,4,4)))\n",
        "\n",
        "w = [w0,w1,w2,w3,w4,w5]"
      ],
      "execution_count": null,
      "outputs": []
    },
    {
      "cell_type": "code",
      "metadata": {
        "id": "NvMtOAMFNXM8"
      },
      "source": [
        "def D(x,w):\n",
        "    x = relu(conv2d(x,w[0], stride=(2, 2), padding=(1, 1)))\n",
        "    x = relu(conv2d(x,w[1], stride=(2, 2), padding=(1, 1)))\n",
        "    x = x.view(x.size(0), 6272)\n",
        "    x = linear(x,w[2])\n",
        "    x = torch.sigmoid(x)\n",
        "    return x"
      ],
      "execution_count": null,
      "outputs": []
    },
    {
      "cell_type": "code",
      "metadata": {
        "id": "0aP-EqS6NXNB"
      },
      "source": [
        "def G(x,w):\n",
        "    x = linear(x,w[3])\n",
        "    x = x.view(x.size(0), 128, 7, 7)\n",
        "    x = relu(conv_transpose2d(x,w[4], stride=(2, 2), padding=(1, 1)))\n",
        "    x = torch.tanh(conv_transpose2d(x,w[5], stride=(2, 2), padding=(1, 1)))\n",
        "    return x"
      ],
      "execution_count": null,
      "outputs": []
    },
    {
      "cell_type": "code",
      "metadata": {
        "id": "KkPqjP3rOv3c"
      },
      "source": [
        "d_optimizer = torch.optim.Adam(w[0:3], lr=0.0002)\n",
        "g_optimizer = torch.optim.Adam(w[3:], lr=0.0002)\n",
        "\n",
        "real_labels = Variable(torch.ones(batch_size, 1).cuda())\n",
        "fake_labels = Variable(torch.zeros(batch_size, 1).cuda())"
      ],
      "execution_count": null,
      "outputs": []
    },
    {
      "cell_type": "code",
      "metadata": {
        "id": "SwNovkpIOv3g"
      },
      "source": [
        "num_epochs = 500 \n",
        "batches = X.shape[0]//batch_size\n",
        "steps = num_epochs*batches"
      ],
      "execution_count": null,
      "outputs": []
    },
    {
      "cell_type": "code",
      "metadata": {
        "id": "vA6CQvaoOv3k"
      },
      "source": [
        "z1 = Variable(torch.randn(steps,batch_size,latent_size).cuda())\n",
        "z2 = Variable(torch.randn(steps,batch_size,latent_size).cuda())"
      ],
      "execution_count": null,
      "outputs": []
    },
    {
      "cell_type": "code",
      "metadata": {
        "id": "CQsuyre6Ov3n"
      },
      "source": [
        "for i in range(steps):\n",
        "        \n",
        "    images,y = get_batch('train')\n",
        "        \n",
        "    d_loss = binary_cross_entropy(D(images,w), real_labels) + binary_cross_entropy(D(G(z1[i],w),w), fake_labels)\n",
        "    d_optimizer.zero_grad()\n",
        "    d_loss.backward()\n",
        "    d_optimizer.step()\n",
        "       \n",
        "    \n",
        "    g_loss = binary_cross_entropy(D(G(z2[i],w),w), real_labels)\n",
        "    g_optimizer.zero_grad()\n",
        "    g_loss.backward()\n",
        "    g_optimizer.step()\n",
        "\n",
        "    \n",
        "    if i % 2000 == 0:\n",
        "        out = G(z1[np.random.randint(steps)],w)\n",
        "        montage_plot(out.view(batch_size,1,28,28).detach().cpu().numpy()[0:25,0,:,:])"
      ],
      "execution_count": null,
      "outputs": []
    },
    {
      "cell_type": "code",
      "metadata": {
        "id": "tFl7V-HANWKD"
      },
      "source": [],
      "execution_count": null,
      "outputs": []
    }
  ]
}
