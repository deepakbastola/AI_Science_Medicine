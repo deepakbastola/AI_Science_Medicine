{
  "cells": [
    {
      "cell_type": "markdown",
      "metadata": {
        "id": "view-in-github",
        "colab_type": "text"
      },
      "source": [
        "<a href=\"https://colab.research.google.com/github/deepakbastola/AI_Science_Medicine/blob/main/Random_Walk_MNIST_6_1.ipynb\" target=\"_parent\"><img src=\"https://colab.research.google.com/assets/colab-badge.svg\" alt=\"Open In Colab\"/></a>"
      ]
    },
    {
      "cell_type": "code",
      "execution_count": null,
      "metadata": {
        "id": "G2-MnAgsMv7g"
      },
      "outputs": [],
      "source": [
        "import numpy as np\n",
        "import matplotlib.pyplot as plt\n",
        "from torchvision import datasets\n",
        "import torch\n",
        "from skimage.util import montage"
      ]
    },
    {
      "cell_type": "code",
      "execution_count": null,
      "metadata": {
        "id": "vtt2uLdjovJE"
      },
      "outputs": [],
      "source": [
        "def GPU(data):\n",
        "    return torch.tensor(data, requires_grad=True, dtype=torch.float, device=torch.device('cuda'))\n",
        "\n",
        "def GPU_data(data):\n",
        "    return torch.tensor(data, requires_grad=False, dtype=torch.float, device=torch.device('cuda'))"
      ]
    },
    {
      "cell_type": "code",
      "execution_count": null,
      "metadata": {
        "id": "6DQxxGNl1E1o"
      },
      "outputs": [],
      "source": [
        "def plot(x):\n",
        "    if type(x) == torch.Tensor :\n",
        "        x = x.cpu().detach().numpy()\n",
        "\n",
        "    fig, ax = plt.subplots()\n",
        "    im = ax.imshow(x, cmap = 'gray')\n",
        "    ax.axis('off')\n",
        "    fig.set_size_inches(10, 10)\n",
        "    plt.show()"
      ]
    },
    {
      "cell_type": "code",
      "execution_count": null,
      "metadata": {
        "id": "wLcWTt76COK2"
      },
      "outputs": [],
      "source": [
        "def montage_plot(x):\n",
        "    x = np.pad(x, pad_width=((0, 0), (1, 1), (1, 1)), mode='constant', constant_values=0)\n",
        "    plot(montage(x))"
      ]
    },
    {
      "cell_type": "code",
      "execution_count": null,
      "metadata": {
        "id": "mm7ZMYrVEdMX"
      },
      "outputs": [],
      "source": [
        "#MNIST\n",
        "train_set = datasets.MNIST('./data', train=True, download=True)\n",
        "test_set = datasets.MNIST('./data', train=False, download=True)"
      ]
    },
    {
      "cell_type": "code",
      "execution_count": null,
      "metadata": {
        "id": "Ols0HivADS6a"
      },
      "outputs": [],
      "source": [
        "X = train_set.data.numpy()\n",
        "X_test = test_set.data.numpy()\n",
        "Y = train_set.targets.numpy()\n",
        "Y_test = test_set.targets.numpy()\n",
        "\n",
        "X = X[:,None,:,:]/255\n",
        "X_test = X_test[:,None,:,:]/255"
      ]
    },
    {
      "cell_type": "code",
      "execution_count": null,
      "metadata": {
        "id": "oTo8Ij_dtvnm"
      },
      "outputs": [],
      "source": [
        "X.shape,Y.shape,X_test.shape,Y_test.shape"
      ]
    },
    {
      "cell_type": "code",
      "execution_count": null,
      "metadata": {
        "id": "fNB7IqMOrmT9"
      },
      "outputs": [],
      "source": [
        "x = X[10,0,:,:]"
      ]
    },
    {
      "cell_type": "code",
      "execution_count": null,
      "metadata": {
        "id": "CDi1Jh4Irts7"
      },
      "outputs": [],
      "source": [
        "x.shape"
      ]
    },
    {
      "cell_type": "code",
      "execution_count": null,
      "metadata": {
        "id": "6Vx1F-xeqECM"
      },
      "outputs": [],
      "source": [
        "plt.imshow(x)"
      ]
    },
    {
      "cell_type": "code",
      "execution_count": null,
      "metadata": {
        "id": "wCmkII58sZdA"
      },
      "outputs": [],
      "source": [
        "a = np.random.random((5,1))"
      ]
    },
    {
      "cell_type": "code",
      "execution_count": null,
      "metadata": {
        "id": "O7_wns-asism"
      },
      "outputs": [],
      "source": [
        "a.T"
      ]
    },
    {
      "cell_type": "code",
      "execution_count": null,
      "metadata": {
        "id": "szMOX9nMsdrk"
      },
      "outputs": [],
      "source": [
        "b = np.random.random((5,5))"
      ]
    },
    {
      "cell_type": "code",
      "execution_count": null,
      "metadata": {
        "id": "3NKB1sggsnJa"
      },
      "outputs": [],
      "source": [
        "b.shape,a.shape"
      ]
    },
    {
      "cell_type": "code",
      "execution_count": null,
      "metadata": {
        "id": "WjFosx33sqgC"
      },
      "outputs": [],
      "source": [
        "b@a"
      ]
    },
    {
      "cell_type": "code",
      "execution_count": null,
      "metadata": {
        "id": "j6GQ9NCjszw1"
      },
      "outputs": [],
      "source": [
        "b = np.random.random((2,5))"
      ]
    },
    {
      "cell_type": "code",
      "execution_count": null,
      "metadata": {
        "id": "NnlXayIAs8x6"
      },
      "outputs": [],
      "source": [
        "b@a"
      ]
    },
    {
      "cell_type": "code",
      "execution_count": null,
      "metadata": {
        "id": "jGHfXpiAs9tb"
      },
      "outputs": [],
      "source": [
        "b.shape,a.shape"
      ]
    },
    {
      "cell_type": "code",
      "execution_count": null,
      "metadata": {
        "id": "i5tBm3-itAs1"
      },
      "outputs": [],
      "source": [
        "x = np.random.random((784,1))"
      ]
    },
    {
      "cell_type": "code",
      "execution_count": null,
      "metadata": {
        "id": "T_L5bVkRtGqA"
      },
      "outputs": [],
      "source": [
        "x.shape"
      ]
    },
    {
      "cell_type": "code",
      "execution_count": null,
      "metadata": {
        "id": "2dNYXDXPtHT7"
      },
      "outputs": [],
      "source": [
        "m = np.random.random((10,784))"
      ]
    },
    {
      "cell_type": "code",
      "execution_count": null,
      "metadata": {
        "id": "pMSA1rJltQ3T"
      },
      "outputs": [],
      "source": [
        "m@x"
      ]
    },
    {
      "cell_type": "code",
      "execution_count": null,
      "metadata": {
        "id": "if_3ePE2tS1N"
      },
      "outputs": [],
      "source": [
        "y = m@x"
      ]
    },
    {
      "cell_type": "code",
      "execution_count": null,
      "metadata": {
        "id": "SP8p_g2StVR9"
      },
      "outputs": [],
      "source": [
        "y.shape"
      ]
    },
    {
      "cell_type": "code",
      "execution_count": null,
      "metadata": {
        "id": "nki-C8dLtV5m"
      },
      "outputs": [],
      "source": [
        "m.shape,x.shape"
      ]
    },
    {
      "cell_type": "code",
      "execution_count": null,
      "metadata": {
        "id": "fuqTV174tgV3"
      },
      "outputs": [],
      "source": [
        "np.max(y)"
      ]
    },
    {
      "cell_type": "code",
      "execution_count": null,
      "metadata": {
        "id": "VRMMUuGcttG3"
      },
      "outputs": [],
      "source": [
        "np.argmax(y)"
      ]
    },
    {
      "cell_type": "code",
      "execution_count": null,
      "metadata": {
        "id": "eEej490suLSR"
      },
      "outputs": [],
      "source": [
        "X.shape"
      ]
    },
    {
      "cell_type": "code",
      "execution_count": null,
      "metadata": {
        "id": "qn91STESuV2G"
      },
      "outputs": [],
      "source": [
        "X.shape[0]"
      ]
    },
    {
      "cell_type": "code",
      "execution_count": null,
      "metadata": {
        "id": "SkJuAhHcuXxQ"
      },
      "outputs": [],
      "source": [
        "X.shape[1]"
      ]
    },
    {
      "cell_type": "code",
      "execution_count": null,
      "metadata": {
        "id": "3DeZXds1uZMd"
      },
      "outputs": [],
      "source": [
        "X.shape[2]"
      ]
    },
    {
      "cell_type": "code",
      "execution_count": null,
      "metadata": {
        "id": "7DeXU2BDuOiX"
      },
      "outputs": [],
      "source": [
        "X = X.reshape(X.shape[0],X.shape[2]*X.shape[3])"
      ]
    },
    {
      "cell_type": "code",
      "execution_count": null,
      "metadata": {
        "id": "RjINnBEJugnp"
      },
      "outputs": [],
      "source": [
        "X.shape"
      ]
    },
    {
      "cell_type": "code",
      "execution_count": null,
      "metadata": {
        "id": "FzpWFgSuumVj"
      },
      "outputs": [],
      "source": [
        "X = X.T"
      ]
    },
    {
      "cell_type": "code",
      "execution_count": null,
      "metadata": {
        "id": "w_q5GstOu6Br"
      },
      "outputs": [],
      "source": [
        "m = np.random.standard_normal((10,784))"
      ]
    },
    {
      "cell_type": "code",
      "execution_count": null,
      "metadata": {
        "id": "9B2zb0RLun0Y"
      },
      "outputs": [],
      "source": [
        "m.shape,X.shape"
      ]
    },
    {
      "cell_type": "code",
      "execution_count": null,
      "metadata": {
        "id": "s57Ra0GQvAa3"
      },
      "outputs": [],
      "source": [
        "y = m@X"
      ]
    },
    {
      "cell_type": "code",
      "execution_count": null,
      "metadata": {
        "id": "ltSHW0RnvBxa"
      },
      "outputs": [],
      "source": [
        "y.shape"
      ]
    },
    {
      "cell_type": "code",
      "execution_count": null,
      "metadata": {
        "id": "H3u3NxCLvNEb"
      },
      "outputs": [],
      "source": [
        "y = np.argmax(y, axis=0)"
      ]
    },
    {
      "cell_type": "code",
      "execution_count": null,
      "metadata": {
        "id": "B9KzW_npvO0t"
      },
      "outputs": [],
      "source": [
        "y.shape"
      ]
    },
    {
      "cell_type": "code",
      "execution_count": null,
      "metadata": {
        "id": "EQqlYV3LvSG1"
      },
      "outputs": [],
      "source": [
        "Y.shape"
      ]
    },
    {
      "cell_type": "code",
      "execution_count": null,
      "metadata": {
        "id": "FH2Z1vYCvUCR"
      },
      "outputs": [],
      "source": [
        "y"
      ]
    },
    {
      "cell_type": "code",
      "execution_count": null,
      "metadata": {
        "id": "Q41hImp6vVQd"
      },
      "outputs": [],
      "source": [
        "Y"
      ]
    },
    {
      "cell_type": "code",
      "execution_count": null,
      "metadata": {
        "id": "PK7wc2ervbWB"
      },
      "outputs": [],
      "source": [
        "y == Y"
      ]
    },
    {
      "cell_type": "code",
      "execution_count": null,
      "metadata": {
        "id": "TIN0hNJkvgJm"
      },
      "outputs": [],
      "source": [
        "np.sum(y == Y)"
      ]
    },
    {
      "cell_type": "code",
      "execution_count": null,
      "metadata": {
        "id": "U-dMxI--vk6T"
      },
      "outputs": [],
      "source": [
        "len(Y)"
      ]
    },
    {
      "cell_type": "code",
      "execution_count": null,
      "metadata": {
        "id": "dPL4O9yXvor9"
      },
      "outputs": [],
      "source": [
        "acc = np.sum(y == Y)/len(Y)"
      ]
    },
    {
      "cell_type": "code",
      "execution_count": null,
      "metadata": {
        "id": "oGVVaASUvvMK"
      },
      "outputs": [],
      "source": [
        "acc"
      ]
    },
    {
      "cell_type": "code",
      "execution_count": null,
      "metadata": {
        "id": "2pcrGVBNt15i"
      },
      "outputs": [],
      "source": [
        "m = np.random.standard_normal((10,784))\n",
        "\n",
        "y = m@X\n",
        "\n",
        "y = np.argmax(y, axis=0)\n",
        "\n",
        "acc = np.sum(y == Y)/len(Y)\n",
        "\n",
        "print(acc)"
      ]
    },
    {
      "cell_type": "code",
      "execution_count": null,
      "metadata": {
        "id": "XYkNlQ-Mv0-G"
      },
      "outputs": [],
      "source": []
    },
    {
      "cell_type": "code",
      "execution_count": null,
      "metadata": {
        "id": "RZnwvYgUwKOV"
      },
      "outputs": [],
      "source": [
        "acc_best = 0\n",
        "m_best = 0\n",
        "\n",
        "for i in range(100):\n",
        "\n",
        "    m = np.random.standard_normal((10,784))\n",
        "\n",
        "    y = m@X\n",
        "\n",
        "    y = np.argmax(y, axis=0)\n",
        "\n",
        "    acc = np.sum(y == Y)/len(Y)\n",
        "\n",
        "    if acc > acc_best:\n",
        "        acc_best = acc\n",
        "        m_best = m\n",
        "\n",
        "        print(acc_best)"
      ]
    },
    {
      "cell_type": "code",
      "execution_count": null,
      "metadata": {
        "colab": {
          "background_save": true
        },
        "id": "ggbDiUhQwKQq"
      },
      "outputs": [],
      "source": []
    },
    {
      "cell_type": "code",
      "execution_count": null,
      "metadata": {
        "colab": {
          "background_save": true
        },
        "id": "dVp2Pn8iwKSQ"
      },
      "outputs": [],
      "source": [
        "acc_best = 0\n",
        "m_best = 0\n",
        "\n",
        "for i in range(10000):\n",
        "\n",
        "    m = m_best + np.random.standard_normal((10,784))\n",
        "\n",
        "    y = m@X\n",
        "\n",
        "    y = np.argmax(y, axis=0)\n",
        "\n",
        "    acc = np.sum(y == Y)/len(Y)\n",
        "\n",
        "    if acc > acc_best:\n",
        "        acc_best = acc\n",
        "        m_best = m\n",
        "\n",
        "        print(acc_best)"
      ]
    },
    {
      "cell_type": "code",
      "execution_count": null,
      "metadata": {
        "id": "zktnb-suxqHH"
      },
      "outputs": [],
      "source": [
        "m_best = 0 \n",
        "acc_best = 0\n",
        "\n",
        "for i in range(1000):\n",
        "    \n",
        "    m = np.random.standard_normal((10,784))\n",
        "\n",
        "    y = m@X\n",
        "\n",
        "    y = np.argmax(y, axis=0)\n",
        "\n",
        "    acc = np.sum(y == Y)/len(Y)\n",
        "\n",
        "\n",
        "    if acc > acc_best:\n",
        "        print(acc)\n",
        "        m_best = m\n",
        "        acc_best = acc"
      ]
    },
    {
      "cell_type": "code",
      "execution_count": null,
      "metadata": {
        "colab": {
          "background_save": true
        },
        "id": "Z5ijFhoNUwiX"
      },
      "outputs": [],
      "source": [
        "def GPU(data):\n",
        "    return torch.tensor(data, requires_grad=True, dtype=torch.float, device=torch.device('cuda'))\n",
        "\n",
        "def GPU_data(data):\n",
        "    return torch.tensor(data, requires_grad=False, dtype=torch.float, device=torch.device('cuda'))"
      ]
    },
    {
      "cell_type": "code",
      "execution_count": null,
      "metadata": {
        "colab": {
          "background_save": true
        },
        "id": "albma-mgUzZ_"
      },
      "outputs": [],
      "source": [
        "X = GPU_data(X)\n",
        "Y = GPU_data(Y)\n",
        "X_test = GPU_data(X_test)\n",
        "Y_test = GPU_data(Y_test)"
      ]
    },
    {
      "cell_type": "code",
      "execution_count": null,
      "metadata": {
        "id": "xaouMZqayjg2"
      },
      "outputs": [],
      "source": [
        "M = GPU_data(np.random.random((100,10,784)))\n",
        "M.shape,X.shape\n",
        "(M@X).shape\n",
        "(torch.argmax((M@X), axis=1) == Y).shape\n",
        "Y.shape\n",
        "y = torch.argmax((M@X), axis=1) \n",
        "score = ((y == Y).sum(1)/len(Y))\n",
        "s = torch.argsort(score,descending=True)\n",
        "score[s]"
      ]
    },
    {
      "cell_type": "code",
      "execution_count": null,
      "metadata": {
        "id": "jaBan-ZV21fG"
      },
      "outputs": [],
      "source": [
        "                                                                                                                                      lN = 100\n",
        "M = GPU_data(np.random.rand(N,10,784))\n",
        "\n",
        "m_best = 0 \n",
        "acc_best = 0\n",
        "dif = 1;\n",
        "\n",
        "for i in range(1000000):\n",
        "\n",
        "    y = torch.argmax((M@X), axis=1) \n",
        "    score = ((y == Y).sum(1)/len(Y))\n",
        "    s = torch.argsort(score,descending=True)\n",
        "    M = M[s]\n",
        "\n",
        "    M[1:] = M[0]\n",
        "    M[N//2:] = 0\n",
        "    M[1:] += (np.random.rand())*GPU_data(np.random.rand(N-1,10,784))\n",
        "    \n",
        "\n",
        "    acc = score[s][0].item()\n",
        "\n",
        "    if acc > acc_best:\n",
        "        \n",
        "        m_best = M[0]\n",
        "        acc_best = acc\n",
        "\n",
        "        print(i,acc)"
      ]
    },
    {
      "cell_type": "code",
      "execution_count": null,
      "metadata": {
        "id": "reX5gbMu4Sy1"
      },
      "outputs": [],
      "source": []
    }
  ],
  "metadata": {
    "accelerator": "GPU",
    "colab": {
      "provenance": [],
      "include_colab_link": true
    },
    "kernelspec": {
      "display_name": "Python 3",
      "name": "python3"
    },
    "language_info": {
      "name": "python"
    }
  },
  "nbformat": 4,
  "nbformat_minor": 0
}
