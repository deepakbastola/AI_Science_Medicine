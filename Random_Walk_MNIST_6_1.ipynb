{
  "cells": [
    {
      "cell_type": "markdown",
      "metadata": {
        "id": "view-in-github",
        "colab_type": "text"
      },
      "source": [
        "<a href=\"https://colab.research.google.com/github/deepakbastola/AI_Science_Medicine/blob/main/Random_Walk_MNIST_6_1.ipynb\" target=\"_parent\"><img src=\"https://colab.research.google.com/assets/colab-badge.svg\" alt=\"Open In Colab\"/></a>"
      ]
    },
    {
      "cell_type": "code",
      "execution_count": null,
      "metadata": {
        "id": "G2-MnAgsMv7g"
      },
      "outputs": [],
      "source": [
        "import numpy as np\n",
        "import matplotlib.pyplot as plt\n",
        "from torchvision import datasets\n",
        "import torch\n",
        "from skimage.util import montage"
      ]
    },
    {
      "cell_type": "code",
      "execution_count": null,
      "metadata": {
        "id": "vtt2uLdjovJE"
      },
      "outputs": [],
      "source": [
        "def GPU(data):\n",
        "    return torch.tensor(data, requires_grad=True, dtype=torch.float, device=torch.device('cuda'))\n",
        "\n",
        "def GPU_data(data):\n",
        "    return torch.tensor(data, requires_grad=False, dtype=torch.float, device=torch.device('cuda'))"
      ]
    },
    {
      "cell_type": "code",
      "execution_count": null,
      "metadata": {
        "id": "6DQxxGNl1E1o"
      },
      "outputs": [],
      "source": [
        "def plot(x):\n",
        "    if type(x) == torch.Tensor :\n",
        "        x = x.cpu().detach().numpy()\n",
        "\n",
        "    fig, ax = plt.subplots()\n",
        "    im = ax.imshow(x, cmap = 'gray')\n",
        "    ax.axis('off')\n",
        "    fig.set_size_inches(10, 10)\n",
        "    plt.show()"
      ]
    },
    {
      "cell_type": "code",
      "execution_count": null,
      "metadata": {
        "id": "wLcWTt76COK2"
      },
      "outputs": [],
      "source": [
        "def montage_plot(x):\n",
        "    x = np.pad(x, pad_width=((0, 0), (1, 1), (1, 1)), mode='constant', constant_values=0)\n",
        "    plot(montage(x))"
      ]
    },
    {
      "cell_type": "code",
      "execution_count": null,
      "metadata": {
        "id": "mm7ZMYrVEdMX"
      },
      "outputs": [],
      "source": [
        "#MNIST\n",
        "train_set = datasets.MNIST('./data', train=True, download=True)\n",
        "test_set = datasets.MNIST('./data', train=False, download=True)"
      ]
    },
    {
      "cell_type": "code",
      "execution_count": null,
      "metadata": {
        "id": "Ols0HivADS6a"
      },
      "outputs": [],
      "source": [
        "X = train_set.data.numpy()\n",
        "X_test = test_set.data.numpy()\n",
        "Y = train_set.targets.numpy()\n",
        "Y_test = test_set.targets.numpy()\n",
        "\n",
        "X = X[:,None,:,:]/255\n",
        "X_test = X_test[:,None,:,:]/255"
      ]
    },
    {
      "cell_type": "code",
      "execution_count": null,
      "metadata": {
        "id": "oTo8Ij_dtvnm"
      },
      "outputs": [],
      "source": [
        "X.shape,Y.shape,X_test.shape,Y_test.shape"
      ]
    },
    {
      "cell_type": "code",
      "execution_count": null,
      "metadata": {
        "id": "fNB7IqMOrmT9"
      },
      "outputs": [],
      "source": [
        "x = X[10,0,:,:]"
      ]
    },
    {
      "cell_type": "code",
      "execution_count": null,
      "metadata": {
        "id": "CDi1Jh4Irts7"
      },
      "outputs": [],
      "source": [
        "x.shape"
      ]
    },
    {
      "cell_type": "code",
      "execution_count": null,
      "metadata": {
        "id": "6Vx1F-xeqECM"
      },
      "outputs": [],
      "source": [
        "plt.imshow(x)"
      ]
    },
    {
      "cell_type": "code",
      "execution_count": null,
      "metadata": {
        "id": "1XNBRsnYriLA"
      },
      "outputs": [],
      "source": []
    },
    {
      "cell_type": "code",
      "execution_count": null,
      "metadata": {
        "id": "wCmkII58sZdA"
      },
      "outputs": [],
      "source": [
        "a = np.random.random((5,1))"
      ]
    },
    {
      "cell_type": "code",
      "execution_count": null,
      "metadata": {
        "id": "-UT4Y8BjsZfT"
      },
      "outputs": [],
      "source": [
        "\n",
        "\n",
        "a"
      ]
    },
    {
      "cell_type": "code",
      "execution_count": null,
      "metadata": {
        "id": "O7_wns-asism"
      },
      "outputs": [],
      "source": [
        "a.T"
      ]
    },
    {
      "cell_type": "code",
      "execution_count": null,
      "metadata": {
        "id": "szMOX9nMsdrk"
      },
      "outputs": [],
      "source": [
        "b = np.random.random((5,5))"
      ]
    },
    {
      "cell_type": "code",
      "execution_count": null,
      "metadata": {
        "id": "3NKB1sggsnJa"
      },
      "outputs": [],
      "source": [
        "b.shape,a.shape"
      ]
    },
    {
      "cell_type": "code",
      "execution_count": null,
      "metadata": {
        "id": "WjFosx33sqgC"
      },
      "outputs": [],
      "source": [
        "b@a"
      ]
    },
    {
      "cell_type": "code",
      "execution_count": null,
      "metadata": {
        "id": "j6GQ9NCjszw1"
      },
      "outputs": [],
      "source": [
        "b = np.random.random((2,5))"
      ]
    },
    {
      "cell_type": "code",
      "execution_count": null,
      "metadata": {
        "id": "NnlXayIAs8x6"
      },
      "outputs": [],
      "source": [
        "b@a"
      ]
    },
    {
      "cell_type": "code",
      "execution_count": null,
      "metadata": {
        "id": "jGHfXpiAs9tb"
      },
      "outputs": [],
      "source": [
        "b.shape,a.shape"
      ]
    },
    {
      "cell_type": "code",
      "execution_count": null,
      "metadata": {
        "id": "i5tBm3-itAs1"
      },
      "outputs": [],
      "source": [
        "x = np.random.random((784,1))"
      ]
    },
    {
      "cell_type": "code",
      "execution_count": null,
      "metadata": {
        "id": "T_L5bVkRtGqA"
      },
      "outputs": [],
      "source": [
        "x.shape"
      ]
    },
    {
      "cell_type": "code",
      "execution_count": null,
      "metadata": {
        "id": "2dNYXDXPtHT7"
      },
      "outputs": [],
      "source": [
        "m = np.random.random((10,784))"
      ]
    },
    {
      "cell_type": "code",
      "execution_count": null,
      "metadata": {
        "id": "pMSA1rJltQ3T"
      },
      "outputs": [],
      "source": [
        "m@x"
      ]
    },
    {
      "cell_type": "code",
      "execution_count": null,
      "metadata": {
        "id": "if_3ePE2tS1N"
      },
      "outputs": [],
      "source": [
        "y = m@x"
      ]
    },
    {
      "cell_type": "code",
      "execution_count": null,
      "metadata": {
        "id": "SP8p_g2StVR9"
      },
      "outputs": [],
      "source": [
        "y.shape"
      ]
    },
    {
      "cell_type": "code",
      "execution_count": null,
      "metadata": {
        "id": "nki-C8dLtV5m"
      },
      "outputs": [],
      "source": [
        "m.shape,x.shape"
      ]
    },
    {
      "cell_type": "code",
      "execution_count": null,
      "metadata": {
        "id": "fuqTV174tgV3"
      },
      "outputs": [],
      "source": [
        "np.max(y)"
      ]
    },
    {
      "cell_type": "code",
      "execution_count": null,
      "metadata": {
        "id": "VRMMUuGcttG3"
      },
      "outputs": [],
      "source": [
        "np.argmax(y)"
      ]
    },
    {
      "cell_type": "code",
      "execution_count": null,
      "metadata": {
        "id": "eEej490suLSR"
      },
      "outputs": [],
      "source": [
        "X.shape"
      ]
    },
    {
      "cell_type": "code",
      "execution_count": null,
      "metadata": {
        "id": "qn91STESuV2G"
      },
      "outputs": [],
      "source": [
        "X.shape[0]"
      ]
    },
    {
      "cell_type": "code",
      "execution_count": null,
      "metadata": {
        "id": "SkJuAhHcuXxQ"
      },
      "outputs": [],
      "source": [
        "X.shape[1]"
      ]
    },
    {
      "cell_type": "code",
      "execution_count": null,
      "metadata": {
        "id": "3DeZXds1uZMd"
      },
      "outputs": [],
      "source": [
        "X.shape[2]"
      ]
    },
    {
      "cell_type": "code",
      "execution_count": null,
      "metadata": {
        "id": "7DeXU2BDuOiX"
      },
      "outputs": [],
      "source": [
        "X = X.reshape(X.shape[0],X.shape[2]*X.shape[3])"
      ]
    },
    {
      "cell_type": "code",
      "execution_count": null,
      "metadata": {
        "id": "RjINnBEJugnp"
      },
      "outputs": [],
      "source": [
        "X.shape"
      ]
    },
    {
      "cell_type": "code",
      "execution_count": null,
      "metadata": {
        "id": "FzpWFgSuumVj"
      },
      "outputs": [],
      "source": [
        "X = X.T"
      ]
    },
    {
      "cell_type": "code",
      "execution_count": null,
      "metadata": {
        "id": "w_q5GstOu6Br"
      },
      "outputs": [],
      "source": [
        "m = np.random.standard_normal((10,784))"
      ]
    },
    {
      "cell_type": "code",
      "execution_count": null,
      "metadata": {
        "id": "9B2zb0RLun0Y"
      },
      "outputs": [],
      "source": [
        "m.shape,X.shape"
      ]
    },
    {
      "cell_type": "code",
      "execution_count": null,
      "metadata": {
        "id": "s57Ra0GQvAa3"
      },
      "outputs": [],
      "source": [
        "y = m@X"
      ]
    },
    {
      "cell_type": "code",
      "execution_count": null,
      "metadata": {
        "id": "ltSHW0RnvBxa"
      },
      "outputs": [],
      "source": [
        "y.shape"
      ]
    },
    {
      "cell_type": "code",
      "execution_count": null,
      "metadata": {
        "id": "H3u3NxCLvNEb"
      },
      "outputs": [],
      "source": [
        "y = np.argmax(y, axis=0)"
      ]
    },
    {
      "cell_type": "code",
      "execution_count": null,
      "metadata": {
        "id": "B9KzW_npvO0t"
      },
      "outputs": [],
      "source": [
        "y.shape"
      ]
    },
    {
      "cell_type": "code",
      "execution_count": null,
      "metadata": {
        "id": "EQqlYV3LvSG1"
      },
      "outputs": [],
      "source": [
        "Y.shape"
      ]
    },
    {
      "cell_type": "code",
      "execution_count": null,
      "metadata": {
        "id": "FH2Z1vYCvUCR"
      },
      "outputs": [],
      "source": [
        "y"
      ]
    },
    {
      "cell_type": "code",
      "execution_count": null,
      "metadata": {
        "id": "Q41hImp6vVQd"
      },
      "outputs": [],
      "source": [
        "Y"
      ]
    },
    {
      "cell_type": "code",
      "execution_count": null,
      "metadata": {
        "id": "PK7wc2ervbWB"
      },
      "outputs": [],
      "source": [
        "y == Y"
      ]
    },
    {
      "cell_type": "code",
      "execution_count": null,
      "metadata": {
        "id": "TIN0hNJkvgJm"
      },
      "outputs": [],
      "source": [
        "np.sum(y == Y)"
      ]
    },
    {
      "cell_type": "code",
      "execution_count": null,
      "metadata": {
        "id": "U-dMxI--vk6T"
      },
      "outputs": [],
      "source": [
        "len(Y)"
      ]
    },
    {
      "cell_type": "code",
      "execution_count": null,
      "metadata": {
        "id": "dPL4O9yXvor9"
      },
      "outputs": [],
      "source": [
        "acc = np.sum(y == Y)/len(Y)"
      ]
    },
    {
      "cell_type": "code",
      "execution_count": null,
      "metadata": {
        "id": "oGVVaASUvvMK"
      },
      "outputs": [],
      "source": [
        "acc"
      ]
    },
    {
      "cell_type": "code",
      "execution_count": null,
      "metadata": {
        "id": "2pcrGVBNt15i"
      },
      "outputs": [],
      "source": [
        "m = np.random.standard_normal((10,784))\n",
        "\n",
        "y = m@X\n",
        "\n",
        "y = np.argmax(y, axis=0)\n",
        "\n",
        "acc = np.sum(y == Y)/len(Y)\n",
        "\n",
        "print(acc)"
      ]
    },
    {
      "cell_type": "code",
      "execution_count": null,
      "metadata": {
        "id": "XYkNlQ-Mv0-G"
      },
      "outputs": [],
      "source": []
    },
    {
      "cell_type": "code",
      "execution_count": null,
      "metadata": {
        "id": "RZnwvYgUwKOV"
      },
      "outputs": [],
      "source": [
        "acc_best = 0\n",
        "m_best = 0\n",
        "\n",
        "for i in range(100):\n",
        "\n",
        "    m = np.random.standard_normal((10,784))\n",
        "\n",
        "    y = m@X\n",
        "\n",
        "    y = np.argmax(y, axis=0)\n",
        "\n",
        "    acc = np.sum(y == Y)/len(Y)\n",
        "\n",
        "    if acc > acc_best:\n",
        "        acc_best = acc\n",
        "        m_best = m\n",
        "\n",
        "        print(acc_best)"
      ]
    },
    {
      "cell_type": "code",
      "execution_count": null,
      "metadata": {
        "id": "ggbDiUhQwKQq"
      },
      "outputs": [],
      "source": []
    },
    {
      "cell_type": "code",
      "execution_count": null,
      "metadata": {
        "colab": {
          "base_uri": "https://localhost:8080/"
        },
        "id": "dVp2Pn8iwKSQ",
        "outputId": "afa31bfc-f889-4452-9c95-099f784aa484"
      },
      "outputs": [
        {
          "output_type": "stream",
          "name": "stdout",
          "text": [
            "0.09253333333333333\n",
            "0.13538333333333333\n",
            "0.14523333333333333\n",
            "0.17808333333333334\n",
            "0.18755\n",
            "0.20421666666666666\n",
            "0.21941666666666668\n",
            "0.23395\n",
            "0.2367\n",
            "0.24536666666666668\n",
            "0.24543333333333334\n",
            "0.2657333333333333\n",
            "0.2716166666666667\n",
            "0.27858333333333335\n",
            "0.2854333333333333\n",
            "0.29145\n",
            "0.2991333333333333\n",
            "0.3060333333333333\n",
            "0.31103333333333333\n",
            "0.31378333333333336\n",
            "0.3202833333333333\n",
            "0.3222333333333333\n",
            "0.3228666666666667\n",
            "0.3298\n",
            "0.3308333333333333\n",
            "0.3354\n",
            "0.3398833333333333\n",
            "0.34125\n",
            "0.34165\n",
            "0.34336666666666665\n",
            "0.34408333333333335\n",
            "0.34471666666666667\n",
            "0.34896666666666665\n",
            "0.35313333333333335\n",
            "0.35995\n",
            "0.36251666666666665\n",
            "0.3638\n",
            "0.3681833333333333\n",
            "0.36943333333333334\n",
            "0.37093333333333334\n",
            "0.37355\n",
            "0.37635\n",
            "0.3765\n",
            "0.37776666666666664\n",
            "0.37915\n",
            "0.38021666666666665\n",
            "0.3831333333333333\n",
            "0.3873\n",
            "0.38798333333333335\n",
            "0.38806666666666667\n",
            "0.38811666666666667\n",
            "0.3893\n",
            "0.3914666666666667\n",
            "0.3936\n",
            "0.3940166666666667\n",
            "0.39436666666666664\n",
            "0.39545\n",
            "0.39608333333333334\n",
            "0.3986166666666667\n",
            "0.3997833333333333\n",
            "0.40103333333333335\n",
            "0.40225\n",
            "0.4042\n",
            "0.40715\n",
            "0.40803333333333336\n",
            "0.41026666666666667\n",
            "0.41236666666666666\n",
            "0.4135666666666667\n",
            "0.41441666666666666\n",
            "0.4146\n",
            "0.41706666666666664\n",
            "0.41856666666666664\n",
            "0.41883333333333334\n",
            "0.41901666666666665\n",
            "0.41985\n",
            "0.42023333333333335\n",
            "0.42038333333333333\n",
            "0.4207166666666667\n",
            "0.42165\n",
            "0.4224\n",
            "0.42246666666666666\n",
            "0.4234\n",
            "0.42343333333333333\n",
            "0.42368333333333336\n",
            "0.42475\n",
            "0.4264833333333333\n",
            "0.42665\n",
            "0.42686666666666667\n",
            "0.4277166666666667\n",
            "0.42801666666666666\n",
            "0.4298166666666667\n",
            "0.43248333333333333\n",
            "0.43478333333333335\n",
            "0.43505\n",
            "0.43538333333333334\n",
            "0.43543333333333334\n",
            "0.43801666666666667\n",
            "0.4382333333333333\n",
            "0.43998333333333334\n",
            "0.44111666666666666\n",
            "0.4416833333333333\n",
            "0.4417833333333333\n",
            "0.4424\n",
            "0.44271666666666665\n",
            "0.44365\n",
            "0.4442833333333333\n",
            "0.4447833333333333\n",
            "0.4457833333333333\n",
            "0.44598333333333334\n",
            "0.4461833333333333\n",
            "0.44661666666666666\n",
            "0.44906666666666667\n",
            "0.4499166666666667\n",
            "0.4501833333333333\n",
            "0.45106666666666667\n",
            "0.45126666666666665\n",
            "0.4512833333333333\n",
            "0.45275\n",
            "0.45418333333333333\n",
            "0.4545\n",
            "0.45655\n",
            "0.45858333333333334\n",
            "0.45875\n",
            "0.4588833333333333\n",
            "0.45963333333333334\n",
            "0.4599\n",
            "0.4609\n",
            "0.46221666666666666\n",
            "0.46255\n",
            "0.46295\n",
            "0.4637\n",
            "0.46416666666666667\n",
            "0.46525\n",
            "0.4670166666666667\n",
            "0.4673833333333333\n",
            "0.4676\n",
            "0.4685\n",
            "0.4707\n",
            "0.4708333333333333\n",
            "0.4708833333333333\n",
            "0.47173333333333334\n",
            "0.47286666666666666\n",
            "0.4755333333333333\n",
            "0.47683333333333333\n",
            "0.47745\n",
            "0.4776166666666667\n",
            "0.4779\n",
            "0.47996666666666665\n",
            "0.48001666666666665\n",
            "0.4805\n",
            "0.48085\n",
            "0.48281666666666667\n",
            "0.48296666666666666\n",
            "0.48306666666666664\n",
            "0.4830833333333333\n",
            "0.4840333333333333\n",
            "0.48688333333333333\n",
            "0.48711666666666664\n",
            "0.4892666666666667\n",
            "0.48938333333333334\n",
            "0.48978333333333335\n",
            "0.4903166666666667\n",
            "0.49245\n",
            "0.4968166666666667\n",
            "0.4977\n",
            "0.49971666666666664\n",
            "0.5005166666666667\n",
            "0.50075\n",
            "0.5016333333333334\n",
            "0.5040833333333333\n",
            "0.5074833333333333\n",
            "0.5086666666666667\n",
            "0.51085\n",
            "0.512\n",
            "0.51205\n",
            "0.5136833333333334\n",
            "0.5166\n",
            "0.5172333333333333\n",
            "0.5193666666666666\n",
            "0.5216166666666666\n",
            "0.5222166666666667\n",
            "0.5228\n",
            "0.52585\n",
            "0.5263166666666667\n",
            "0.5268\n",
            "0.5272333333333333\n",
            "0.5275166666666666\n",
            "0.5280333333333334\n",
            "0.5282\n",
            "0.5290333333333334\n",
            "0.5294\n",
            "0.5318666666666667\n",
            "0.5320833333333334\n",
            "0.53215\n",
            "0.53315\n",
            "0.5347333333333333\n",
            "0.5350166666666667\n",
            "0.5372166666666667\n",
            "0.5373833333333333\n",
            "0.5377\n",
            "0.5381666666666667\n",
            "0.54075\n",
            "0.5410833333333334\n",
            "0.5416333333333333\n",
            "0.5425333333333333\n",
            "0.5429\n",
            "0.5443166666666667\n",
            "0.5456833333333333\n",
            "0.5495166666666667\n",
            "0.5522\n",
            "0.5532666666666667\n",
            "0.5539833333333334\n",
            "0.5543\n",
            "0.5556666666666666\n",
            "0.5566166666666666\n",
            "0.55745\n",
            "0.5594333333333333\n",
            "0.5601666666666667\n",
            "0.5615333333333333\n",
            "0.5647833333333333\n",
            "0.5649166666666666\n",
            "0.5655666666666667\n",
            "0.56645\n",
            "0.5729166666666666\n",
            "0.5746166666666667\n",
            "0.5758\n",
            "0.57765\n",
            "0.5779666666666666\n",
            "0.5785833333333333\n",
            "0.5801666666666667\n",
            "0.5816833333333333\n",
            "0.58195\n",
            "0.5824333333333334\n",
            "0.58275\n",
            "0.5831166666666666\n",
            "0.58365\n",
            "0.5854333333333334\n",
            "0.5883666666666667\n",
            "0.5890833333333333\n",
            "0.5893833333333334\n",
            "0.5900166666666666\n",
            "0.5915\n",
            "0.5924\n",
            "0.5940666666666666\n",
            "0.5950333333333333\n",
            "0.5951\n",
            "0.5957166666666667\n",
            "0.5968333333333333\n",
            "0.5984333333333334\n",
            "0.5989166666666667\n",
            "0.5996166666666667\n",
            "0.5998833333333333\n",
            "0.6010166666666666\n",
            "0.6016333333333334\n",
            "0.6030333333333333\n",
            "0.6041166666666666\n",
            "0.6052833333333333\n",
            "0.6055166666666667\n",
            "0.60605\n",
            "0.6079\n",
            "0.6084166666666667\n",
            "0.60885\n",
            "0.61115\n",
            "0.6129166666666667\n",
            "0.61355\n",
            "0.6145333333333334\n",
            "0.6150666666666667\n",
            "0.6171833333333333\n",
            "0.6200166666666667\n",
            "0.62135\n",
            "0.62185\n",
            "0.6224333333333333\n",
            "0.6226\n",
            "0.62335\n",
            "0.6239833333333333\n",
            "0.62515\n",
            "0.6254666666666666\n",
            "0.6275\n",
            "0.62895\n",
            "0.6295666666666667\n",
            "0.63035\n",
            "0.63135\n",
            "0.6336333333333334\n",
            "0.6344833333333333\n",
            "0.6351666666666667\n",
            "0.6355\n",
            "0.63555\n",
            "0.63585\n",
            "0.6364166666666666\n",
            "0.6370833333333333\n",
            "0.6388\n",
            "0.6391166666666667\n",
            "0.63965\n",
            "0.6399666666666667\n",
            "0.6402\n",
            "0.6414166666666666\n",
            "0.64155\n",
            "0.6437166666666667\n",
            "0.6442333333333333\n",
            "0.6445166666666666\n",
            "0.64495\n",
            "0.6463\n",
            "0.6474\n",
            "0.6476333333333333\n",
            "0.6493166666666667\n",
            "0.6493333333333333\n",
            "0.64935\n",
            "0.6494333333333333\n",
            "0.6497333333333334\n",
            "0.6504\n",
            "0.6511333333333333\n",
            "0.6514166666666666\n",
            "0.6524\n",
            "0.6537\n",
            "0.6540833333333333\n",
            "0.6544666666666666\n",
            "0.6555666666666666\n",
            "0.6564\n",
            "0.6569666666666667\n",
            "0.6572666666666667\n",
            "0.6576833333333333\n",
            "0.6592833333333333\n",
            "0.6601166666666667\n",
            "0.6601666666666667\n",
            "0.6613833333333333\n",
            "0.6618333333333334\n",
            "0.6634333333333333\n",
            "0.6634666666666666\n",
            "0.6635833333333333\n",
            "0.6654\n",
            "0.6655\n",
            "0.6655666666666666\n",
            "0.6659666666666667\n",
            "0.6660166666666667\n",
            "0.6660666666666667\n",
            "0.66665\n",
            "0.6673\n",
            "0.66825\n",
            "0.66855\n",
            "0.6691333333333334\n",
            "0.6693666666666667\n",
            "0.67045\n",
            "0.6706666666666666\n",
            "0.6708666666666666\n",
            "0.6715666666666666\n",
            "0.67175\n",
            "0.6729166666666667\n",
            "0.6730833333333334\n",
            "0.6735\n",
            "0.67405\n",
            "0.67465\n",
            "0.67475\n",
            "0.6761333333333334\n",
            "0.6772166666666667\n",
            "0.6792\n",
            "0.6806333333333333\n",
            "0.6808333333333333\n",
            "0.6812166666666667\n",
            "0.6830166666666667\n",
            "0.6839666666666666\n",
            "0.6842333333333334\n",
            "0.68455\n",
            "0.6848166666666666\n",
            "0.6851333333333334\n",
            "0.6851833333333334\n",
            "0.68575\n",
            "0.686\n",
            "0.6870833333333334\n",
            "0.68775\n",
            "0.6891166666666667\n",
            "0.69055\n",
            "0.6908833333333333\n",
            "0.6910333333333334\n",
            "0.6924166666666667\n",
            "0.6930333333333333\n",
            "0.69365\n",
            "0.6938166666666666\n",
            "0.6939833333333333\n",
            "0.69495\n",
            "0.6952333333333334\n",
            "0.6957\n",
            "0.6962666666666667\n",
            "0.6968166666666666\n",
            "0.697\n",
            "0.6973333333333334\n",
            "0.6977833333333333\n",
            "0.6979666666666666\n",
            "0.69885\n",
            "0.6993333333333334\n",
            "0.7000833333333333\n",
            "0.7002166666666667\n",
            "0.7004833333333333\n",
            "0.7007666666666666\n",
            "0.7009\n",
            "0.7011166666666667\n",
            "0.7011333333333334\n",
            "0.7012\n",
            "0.7012166666666667\n",
            "0.7016333333333333\n",
            "0.7018833333333333\n",
            "0.7025833333333333\n",
            "0.7031333333333334\n",
            "0.70315\n",
            "0.70355\n",
            "0.7037\n",
            "0.7040333333333333\n",
            "0.70465\n",
            "0.7048666666666666\n",
            "0.7050833333333333\n",
            "0.7057166666666667\n",
            "0.7058\n",
            "0.70775\n",
            "0.7078333333333333\n",
            "0.7081666666666667\n",
            "0.7088333333333333\n",
            "0.7090666666666666\n",
            "0.7096833333333333\n",
            "0.71075\n",
            "0.711\n",
            "0.7115333333333334\n",
            "0.7122333333333334\n",
            "0.7128833333333333\n",
            "0.713\n",
            "0.7133333333333334\n",
            "0.7139\n",
            "0.7141166666666666\n",
            "0.7148166666666667\n",
            "0.7161333333333333\n",
            "0.7162833333333334\n",
            "0.7164666666666667\n",
            "0.71755\n",
            "0.7180333333333333\n",
            "0.7183333333333334\n",
            "0.7186833333333333\n",
            "0.7187\n",
            "0.71885\n",
            "0.7192333333333333\n",
            "0.71925\n",
            "0.7201333333333333\n",
            "0.7207666666666667\n",
            "0.7211833333333333\n",
            "0.7213833333333334\n",
            "0.7217333333333333\n",
            "0.7229\n",
            "0.7235\n",
            "0.72355\n",
            "0.7243333333333334\n",
            "0.7250333333333333\n",
            "0.7256\n",
            "0.7258666666666667\n",
            "0.7261333333333333\n",
            "0.727\n",
            "0.7271666666666666\n",
            "0.72785\n",
            "0.7280666666666666\n",
            "0.7281666666666666\n",
            "0.7286666666666667\n",
            "0.72875\n",
            "0.7294833333333334\n",
            "0.7298166666666667\n",
            "0.72985\n",
            "0.72995\n",
            "0.73015\n",
            "0.7307166666666667\n",
            "0.7314333333333334\n",
            "0.7317333333333333\n",
            "0.7318\n",
            "0.7322333333333333\n",
            "0.7324833333333334\n",
            "0.7329666666666667\n",
            "0.7331666666666666\n",
            "0.73325\n",
            "0.7334833333333334\n",
            "0.7337666666666667\n",
            "0.73445\n",
            "0.7348\n",
            "0.7348333333333333\n",
            "0.73495\n",
            "0.7356\n",
            "0.7358333333333333\n",
            "0.7365833333333334\n",
            "0.7369833333333333\n",
            "0.7370666666666666\n",
            "0.7374666666666667\n",
            "0.7381166666666666\n",
            "0.7384\n",
            "0.73865\n",
            "0.7389333333333333\n",
            "0.7391666666666666\n",
            "0.73925\n",
            "0.7393166666666666\n",
            "0.73985\n",
            "0.7399333333333333\n",
            "0.7400666666666667\n",
            "0.7402333333333333\n",
            "0.74055\n",
            "0.7411166666666666\n",
            "0.7413333333333333\n",
            "0.7415833333333334\n",
            "0.7416666666666667\n",
            "0.7417833333333334\n",
            "0.7419\n",
            "0.7421333333333333\n",
            "0.7423333333333333\n",
            "0.7426666666666667\n",
            "0.7428\n",
            "0.7433\n",
            "0.7435833333333334\n",
            "0.7439333333333333\n",
            "0.7442\n",
            "0.7442833333333333\n",
            "0.7444833333333334\n",
            "0.7446166666666667\n",
            "0.7448333333333333\n",
            "0.7452\n",
            "0.7461333333333333\n",
            "0.7462833333333333\n",
            "0.7464166666666666\n",
            "0.7464666666666666\n",
            "0.7470833333333333\n",
            "0.7477666666666667\n",
            "0.7480333333333333\n",
            "0.74895\n",
            "0.7492666666666666\n",
            "0.7498833333333333\n",
            "0.7504166666666666\n",
            "0.7507333333333334\n",
            "0.7511333333333333\n",
            "0.7516666666666667\n",
            "0.7522666666666666\n",
            "0.75245\n",
            "0.7525333333333334\n",
            "0.75305\n",
            "0.7530666666666667\n",
            "0.7532\n",
            "0.7535\n",
            "0.7535833333333334\n",
            "0.75375\n",
            "0.7539166666666667\n",
            "0.7540666666666667\n",
            "0.75415\n",
            "0.75425\n",
            "0.7547\n",
            "0.7547666666666667\n",
            "0.7549833333333333\n",
            "0.7554166666666666\n",
            "0.7554666666666666\n",
            "0.7560166666666667\n",
            "0.7560333333333333\n",
            "0.7566166666666667\n",
            "0.7567666666666667\n",
            "0.75725\n",
            "0.7576\n",
            "0.75775\n",
            "0.7581166666666667\n",
            "0.75845\n",
            "0.7586\n",
            "0.7589333333333333\n",
            "0.7590333333333333\n",
            "0.7595666666666666\n",
            "0.7601166666666667\n",
            "0.7602333333333333\n",
            "0.7602833333333333\n",
            "0.7603166666666666\n",
            "0.7603666666666666\n",
            "0.7606833333333334\n",
            "0.7612833333333333\n",
            "0.7613666666666666\n",
            "0.7615166666666666\n",
            "0.7617666666666667\n",
            "0.7618666666666667\n",
            "0.76205\n",
            "0.7621\n",
            "0.7623333333333333\n",
            "0.7627166666666667\n",
            "0.7627833333333334\n",
            "0.7629\n",
            "0.76305\n",
            "0.7631333333333333\n",
            "0.7635\n",
            "0.7636333333333334\n",
            "0.7637333333333334\n",
            "0.7638833333333334\n",
            "0.76425\n",
            "0.7643833333333333\n",
            "0.7647833333333334\n",
            "0.765\n",
            "0.7650833333333333\n",
            "0.7653666666666666\n",
            "0.7654666666666666\n",
            "0.7654833333333333\n",
            "0.7656666666666667\n",
            "0.7656833333333334\n",
            "0.76595\n",
            "0.7661333333333333\n",
            "0.7663166666666666\n",
            "0.7666166666666666\n",
            "0.7670166666666667\n",
            "0.7671\n",
            "0.7675833333333333\n",
            "0.76765\n",
            "0.7677166666666667\n",
            "0.7678333333333334\n",
            "0.7681166666666667\n",
            "0.7681666666666667\n",
            "0.7682666666666667\n",
            "0.7684666666666666\n",
            "0.7689166666666667\n",
            "0.76905\n",
            "0.7693666666666666\n",
            "0.7695833333333333\n",
            "0.7696166666666666\n",
            "0.7696666666666667\n",
            "0.7703166666666666\n",
            "0.7705\n"
          ]
        }
      ],
      "source": [
        "acc_best = 0\n",
        "m_best = 0\n",
        "\n",
        "for i in range(10000):\n",
        "\n",
        "    m = m_best + np.random.standard_normal((10,784))\n",
        "\n",
        "    y = m@X\n",
        "\n",
        "    y = np.argmax(y, axis=0)\n",
        "\n",
        "    acc = np.sum(y == Y)/len(Y)\n",
        "\n",
        "    if acc > acc_best:\n",
        "        acc_best = acc\n",
        "        m_best = m\n",
        "\n",
        "        print(acc_best)"
      ]
    },
    {
      "cell_type": "code",
      "execution_count": null,
      "metadata": {
        "id": "zktnb-suxqHH"
      },
      "outputs": [],
      "source": [
        "m_best = 0 \n",
        "acc_best = 0\n",
        "\n",
        "for i in range(1000):\n",
        "    \n",
        "    m = np.random.standard_normal((10,784))\n",
        "\n",
        "    y = m@X\n",
        "\n",
        "    y = np.argmax(y, axis=0)\n",
        "\n",
        "    acc = np.sum(y == Y)/len(Y)\n",
        "\n",
        "\n",
        "    if acc > acc_best:\n",
        "        print(acc)\n",
        "        m_best = m\n",
        "        acc_best = acc"
      ]
    },
    {
      "cell_type": "code",
      "execution_count": null,
      "metadata": {
        "id": "sAsEfgdSyS7f"
      },
      "outputs": [],
      "source": []
    },
    {
      "cell_type": "code",
      "execution_count": null,
      "metadata": {
        "id": "Z5ijFhoNUwiX"
      },
      "outputs": [],
      "source": [
        "def GPU(data):\n",
        "    return torch.tensor(data, requires_grad=True, dtype=torch.float, device=torch.device('cuda'))\n",
        "\n",
        "def GPU_data(data):\n",
        "    return torch.tensor(data, requires_grad=False, dtype=torch.float, device=torch.device('cuda'))"
      ]
    },
    {
      "cell_type": "code",
      "execution_count": null,
      "metadata": {
        "id": "albma-mgUzZ_"
      },
      "outputs": [],
      "source": [
        "X = GPU_data(X)\n",
        "Y = GPU_data(Y)\n",
        "X_test = GPU_data(X_test)\n",
        "Y_test = GPU_data(Y_test)"
      ]
    },
    {
      "cell_type": "code",
      "execution_count": null,
      "metadata": {
        "id": "xaouMZqayjg2"
      },
      "outputs": [],
      "source": [
        "M = GPU_data(np.random.random((100,10,784)))\n",
        "M.shape,X.shape\n",
        "(M@X).shape\n",
        "(torch.argmax((M@X), axis=1) == Y).shape\n",
        "Y.shape\n",
        "y = torch.argmax((M@X), axis=1) \n",
        "score = ((y == Y).sum(1)/len(Y))\n",
        "s = torch.argsort(score,descending=True)\n",
        "score[s]"
      ]
    },
    {
      "cell_type": "code",
      "execution_count": null,
      "metadata": {
        "id": "jaBan-ZV21fG"
      },
      "outputs": [],
      "source": [
        "N = 100\n",
        "M = GPU_data(np.random.rand(N, 10, 784))\n",
        "\n",
        "m_best = 0\n",
        "acc_best = 0\n",
        "\n",
        "for i in range(1000000):\n",
        "    y = torch.argmax((M @ X), axis=1)\n",
        "    score = ((y == Y).sum(1) / len(Y))\n",
        "    s = torch.argsort(score, descending=True)\n",
        "    M = M[s]\n",
        "\n",
        "    M[1:] = M[0].clone()  # Use .clone() to avoid referencing the same tensor\n",
        "    M[N//2:] = 0\n",
        "    M[1:] += 0.00000000001 * GPU_data(np.random.rand(N-1, 10, 784))\n",
        "\n",
        "    acc = score[s][0].item()\n",
        "\n",
        "    if acc > acc_best:\n",
        "        m_best = M[0].clone()  # Use .clone() to avoid referencing the same tensor\n",
        "        acc_best = acc\n",
        "\n",
        "    print(i, acc)\n"
      ]
    }
  ],
  "metadata": {
    "accelerator": "GPU",
    "colab": {
      "provenance": [],
      "include_colab_link": true
    },
    "kernelspec": {
      "display_name": "Python 3",
      "name": "python3"
    },
    "language_info": {
      "name": "python"
    }
  },
  "nbformat": 4,
  "nbformat_minor": 0
}