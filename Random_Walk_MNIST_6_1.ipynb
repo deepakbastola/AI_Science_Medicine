{
  "nbformat": 4,
  "nbformat_minor": 0,
  "metadata": {
    "colab": {
      "provenance": [],
      "gpuType": "T4",
      "include_colab_link": true
    },
    "kernelspec": {
      "name": "python3",
      "display_name": "Python 3"
    },
    "language_info": {
      "name": "python"
    },
    "accelerator": "GPU"
  },
  "cells": [
    {
      "cell_type": "markdown",
      "metadata": {
        "id": "view-in-github",
        "colab_type": "text"
      },
      "source": [
        "<a href=\"https://colab.research.google.com/github/deepakbastola/AI_Science_Medicine/blob/main/Random_Walk_MNIST_6_1.ipynb\" target=\"_parent\"><img src=\"https://colab.research.google.com/assets/colab-badge.svg\" alt=\"Open In Colab\"/></a>"
      ]
    },
    {
      "cell_type": "code",
      "metadata": {
        "id": "G2-MnAgsMv7g"
      },
      "source": [
        "import numpy as np\n",
        "import matplotlib.pyplot as plt\n",
        "from torchvision import datasets\n",
        "import torch\n",
        "from skimage.util import montage"
      ],
      "execution_count": null,
      "outputs": []
    },
    {
      "cell_type": "code",
      "metadata": {
        "id": "vtt2uLdjovJE"
      },
      "source": [
        "def GPU(data):\n",
        "    return torch.tensor(data, requires_grad=True, dtype=torch.float, device=torch.device('cuda'))\n",
        "\n",
        "def GPU_data(data):\n",
        "    return torch.tensor(data, requires_grad=False, dtype=torch.float, device=torch.device('cuda'))"
      ],
      "execution_count": null,
      "outputs": []
    },
    {
      "cell_type": "code",
      "metadata": {
        "id": "6DQxxGNl1E1o"
      },
      "source": [
        "def plot(x):\n",
        "    if type(x) == torch.Tensor :\n",
        "        x = x.cpu().detach().numpy()\n",
        "\n",
        "    fig, ax = plt.subplots()\n",
        "    im = ax.imshow(x, cmap = 'gray')\n",
        "    ax.axis('off')\n",
        "    fig.set_size_inches(10, 10)\n",
        "    plt.show()"
      ],
      "execution_count": null,
      "outputs": []
    },
    {
      "cell_type": "code",
      "metadata": {
        "id": "wLcWTt76COK2"
      },
      "source": [
        "def montage_plot(x):\n",
        "    x = np.pad(x, pad_width=((0, 0), (1, 1), (1, 1)), mode='constant', constant_values=0)\n",
        "    plot(montage(x))"
      ],
      "execution_count": null,
      "outputs": []
    },
    {
      "cell_type": "code",
      "metadata": {
        "id": "mm7ZMYrVEdMX"
      },
      "source": [
        "#MNIST\n",
        "train_set = datasets.MNIST('./data', train=True, download=True)\n",
        "test_set = datasets.MNIST('./data', train=False, download=True)"
      ],
      "execution_count": null,
      "outputs": []
    },
    {
      "cell_type": "code",
      "metadata": {
        "id": "Ols0HivADS6a"
      },
      "source": [
        "X = train_set.data.numpy()\n",
        "X_test = test_set.data.numpy()\n",
        "Y = train_set.targets.numpy()\n",
        "Y_test = test_set.targets.numpy()\n",
        "\n",
        "X = X[:,None,:,:]/255\n",
        "X_test = X_test[:,None,:,:]/255"
      ],
      "execution_count": null,
      "outputs": []
    },
    {
      "cell_type": "code",
      "metadata": {
        "id": "oTo8Ij_dtvnm",
        "outputId": "e979befc-bd02-4491-f4e9-12255d737d5a",
        "colab": {
          "base_uri": "https://localhost:8080/"
        }
      },
      "source": [
        "X.shape,Y.shape,X_test.shape,Y_test.shape"
      ],
      "execution_count": null,
      "outputs": [
        {
          "output_type": "execute_result",
          "data": {
            "text/plain": [
              "((60000, 1, 28, 28), (60000,), (10000, 1, 28, 28), (10000,))"
            ]
          },
          "metadata": {},
          "execution_count": 119
        }
      ]
    },
    {
      "cell_type": "code",
      "source": [
        "x = X[10,0,:,:]"
      ],
      "metadata": {
        "id": "fNB7IqMOrmT9"
      },
      "execution_count": null,
      "outputs": []
    },
    {
      "cell_type": "code",
      "source": [
        "x.shape"
      ],
      "metadata": {
        "colab": {
          "base_uri": "https://localhost:8080/"
        },
        "id": "CDi1Jh4Irts7",
        "outputId": "6802665a-c50e-4c59-827a-71614b9966cf"
      },
      "execution_count": null,
      "outputs": [
        {
          "output_type": "execute_result",
          "data": {
            "text/plain": [
              "(28, 28)"
            ]
          },
          "metadata": {},
          "execution_count": 121
        }
      ]
    },
    {
      "cell_type": "code",
      "source": [
        "plt.imshow(x)"
      ],
      "metadata": {
        "id": "6Vx1F-xeqECM",
        "colab": {
          "base_uri": "https://localhost:8080/",
          "height": 447
        },
        "outputId": "efac774b-3e10-4ae5-b0ff-995b02dddaf5"
      },
      "execution_count": null,
      "outputs": [
        {
          "output_type": "execute_result",
          "data": {
            "text/plain": [
              "<matplotlib.image.AxesImage at 0x7f30699e0b80>"
            ]
          },
          "metadata": {},
          "execution_count": 122
        },
        {
          "output_type": "display_data",
          "data": {
            "text/plain": [
              "<Figure size 640x480 with 1 Axes>"
            ],
            "image/png": "[encoded data removed]"
          },
          "metadata": {}
        }
      ]
    },
    {
      "cell_type": "code",
      "source": [],
      "metadata": {
        "id": "1XNBRsnYriLA"
      },
      "execution_count": null,
      "outputs": []
    },
    {
      "cell_type": "code",
      "source": [
        "a = np.random.random((5,1))"
      ],
      "metadata": {
        "id": "wCmkII58sZdA"
      },
      "execution_count": null,
      "outputs": []
    },
    {
      "cell_type": "code",
      "source": [
        "\n",
        "\n",
        "a"
      ],
      "metadata": {
        "colab": {
          "base_uri": "https://localhost:8080/"
        },
        "id": "-UT4Y8BjsZfT",
        "outputId": "89d11ce4-d074-45f8-feee-feffb3b5ed7c"
      },
      "execution_count": null,
      "outputs": [
        {
          "output_type": "execute_result",
          "data": {
            "text/plain": [
              "array([[0.75895092],\n",
              "       [0.10532699],\n",
              "       [0.67583819],\n",
              "       [0.36165665],\n",
              "       [0.60886312]])"
            ]
          },
          "metadata": {},
          "execution_count": 124
        }
      ]
    },
    {
      "cell_type": "code",
      "source": [
        "a.T"
      ],
      "metadata": {
        "colab": {
          "base_uri": "https://localhost:8080/"
        },
        "id": "O7_wns-asism",
        "outputId": "41be6a9e-3d90-411b-e035-5670d478c5b5"
      },
      "execution_count": null,
      "outputs": [
        {
          "output_type": "execute_result",
          "data": {
            "text/plain": [
              "array([[0.75895092, 0.10532699, 0.67583819, 0.36165665, 0.60886312]])"
            ]
          },
          "metadata": {},
          "execution_count": 125
        }
      ]
    },
    {
      "cell_type": "code",
      "source": [
        "b = np.random.random((5,5))"
      ],
      "metadata": {
        "id": "szMOX9nMsdrk"
      },
      "execution_count": null,
      "outputs": []
    },
    {
      "cell_type": "code",
      "source": [
        "b.shape,a.shape"
      ],
      "metadata": {
        "colab": {
          "base_uri": "https://localhost:8080/"
        },
        "id": "3NKB1sggsnJa",
        "outputId": "43cf29af-c654-44f0-9df7-895dbf5ad18e"
      },
      "execution_count": null,
      "outputs": [
        {
          "output_type": "execute_result",
          "data": {
            "text/plain": [
              "((5, 5), (5, 1))"
            ]
          },
          "metadata": {},
          "execution_count": 127
        }
      ]
    },
    {
      "cell_type": "code",
      "source": [
        "b@a"
      ],
      "metadata": {
        "colab": {
          "base_uri": "https://localhost:8080/"
        },
        "id": "WjFosx33sqgC",
        "outputId": "7ed2e37a-2091-4274-f71b-6d82abd36789"
      },
      "execution_count": null,
      "outputs": [
        {
          "output_type": "execute_result",
          "data": {
            "text/plain": [
              "array([[1.2801115 ],\n",
              "       [1.74522863],\n",
              "       [1.65823966],\n",
              "       [1.65106164],\n",
              "       [1.08660464]])"
            ]
          },
          "metadata": {},
          "execution_count": 128
        }
      ]
    },
    {
      "cell_type": "code",
      "source": [
        "b = np.random.random((2,5))"
      ],
      "metadata": {
        "id": "j6GQ9NCjszw1"
      },
      "execution_count": null,
      "outputs": []
    },
    {
      "cell_type": "code",
      "source": [
        "b@a"
      ],
      "metadata": {
        "colab": {
          "base_uri": "https://localhost:8080/"
        },
        "id": "NnlXayIAs8x6",
        "outputId": "1d215e5b-60da-47ba-f04c-daaf35d1a8c2"
      },
      "execution_count": null,
      "outputs": [
        {
          "output_type": "execute_result",
          "data": {
            "text/plain": [
              "array([[1.25732313],\n",
              "       [1.18370903]])"
            ]
          },
          "metadata": {},
          "execution_count": 130
        }
      ]
    },
    {
      "cell_type": "code",
      "source": [
        "b.shape,a.shape"
      ],
      "metadata": {
        "colab": {
          "base_uri": "https://localhost:8080/"
        },
        "id": "jGHfXpiAs9tb",
        "outputId": "ff3f9bc6-8451-4791-af84-dcbf76547576"
      },
      "execution_count": null,
      "outputs": [
        {
          "output_type": "execute_result",
          "data": {
            "text/plain": [
              "((2, 5), (5, 1))"
            ]
          },
          "metadata": {},
          "execution_count": 131
        }
      ]
    },
    {
      "cell_type": "code",
      "source": [
        "x = np.random.random((784,1))"
      ],
      "metadata": {
        "id": "i5tBm3-itAs1"
      },
      "execution_count": null,
      "outputs": []
    },
    {
      "cell_type": "code",
      "source": [
        "x.shape"
      ],
      "metadata": {
        "colab": {
          "base_uri": "https://localhost:8080/"
        },
        "id": "T_L5bVkRtGqA",
        "outputId": "66f61f8e-6d5f-488c-d6a0-890b306ec5ec"
      },
      "execution_count": null,
      "outputs": [
        {
          "output_type": "execute_result",
          "data": {
            "text/plain": [
              "(784, 1)"
            ]
          },
          "metadata": {},
          "execution_count": 133
        }
      ]
    },
    {
      "cell_type": "code",
      "source": [
        "m = np.random.random((10,784))"
      ],
      "metadata": {
        "id": "2dNYXDXPtHT7"
      },
      "execution_count": null,
      "outputs": []
    },
    {
      "cell_type": "code",
      "source": [
        "m@x"
      ],
      "metadata": {
        "colab": {
          "base_uri": "https://localhost:8080/"
        },
        "id": "pMSA1rJltQ3T",
        "outputId": "83f87b5e-b182-417a-f5b4-b93d1c231527"
      },
      "execution_count": null,
      "outputs": [
        {
          "output_type": "execute_result",
          "data": {
            "text/plain": [
              "array([[193.87495658],\n",
              "       [192.62822224],\n",
              "       [190.45723889],\n",
              "       [187.56434672],\n",
              "       [185.5888812 ],\n",
              "       [187.815661  ],\n",
              "       [191.83430109],\n",
              "       [191.84777962],\n",
              "       [190.54154672],\n",
              "       [186.76312524]])"
            ]
          },
          "metadata": {},
          "execution_count": 135
        }
      ]
    },
    {
      "cell_type": "code",
      "source": [
        "y = m@x"
      ],
      "metadata": {
        "id": "if_3ePE2tS1N"
      },
      "execution_count": null,
      "outputs": []
    },
    {
      "cell_type": "code",
      "source": [
        "y.shape"
      ],
      "metadata": {
        "colab": {
          "base_uri": "https://localhost:8080/"
        },
        "id": "SP8p_g2StVR9",
        "outputId": "52ab74e4-f0f0-4e10-de9d-74be765999e2"
      },
      "execution_count": null,
      "outputs": [
        {
          "output_type": "execute_result",
          "data": {
            "text/plain": [
              "(10, 1)"
            ]
          },
          "metadata": {},
          "execution_count": 137
        }
      ]
    },
    {
      "cell_type": "code",
      "source": [
        "m.shape,x.shape"
      ],
      "metadata": {
        "colab": {
          "base_uri": "https://localhost:8080/"
        },
        "id": "nki-C8dLtV5m",
        "outputId": "f20c585a-2e51-44eb-9376-923400a34c90"
      },
      "execution_count": null,
      "outputs": [
        {
          "output_type": "execute_result",
          "data": {
            "text/plain": [
              "((10, 784), (784, 1))"
            ]
          },
          "metadata": {},
          "execution_count": 138
        }
      ]
    },
    {
      "cell_type": "code",
      "source": [
        "np.max(y)"
      ],
      "metadata": {
        "colab": {
          "base_uri": "https://localhost:8080/"
        },
        "id": "fuqTV174tgV3",
        "outputId": "ee09db17-51a5-4797-b3f0-a0b04cc8c511"
      },
      "execution_count": null,
      "outputs": [
        {
          "output_type": "execute_result",
          "data": {
            "text/plain": [
              "193.87495658463067"
            ]
          },
          "metadata": {},
          "execution_count": 139
        }
      ]
    },
    {
      "cell_type": "code",
      "source": [
        "np.argmax(y)"
      ],
      "metadata": {
        "colab": {
          "base_uri": "https://localhost:8080/"
        },
        "id": "VRMMUuGcttG3",
        "outputId": "683580c8-9aa7-410c-8ed1-21acf68212f5"
      },
      "execution_count": null,
      "outputs": [
        {
          "output_type": "execute_result",
          "data": {
            "text/plain": [
              "0"
            ]
          },
          "metadata": {},
          "execution_count": 140
        }
      ]
    },
    {
      "cell_type": "code",
      "source": [
        "X.shape"
      ],
      "metadata": {
        "colab": {
          "base_uri": "https://localhost:8080/"
        },
        "id": "eEej490suLSR",
        "outputId": "fabf6e33-0667-4d89-de83-9194d17950a6"
      },
      "execution_count": null,
      "outputs": [
        {
          "output_type": "execute_result",
          "data": {
            "text/plain": [
              "(60000, 1, 28, 28)"
            ]
          },
          "metadata": {},
          "execution_count": 141
        }
      ]
    },
    {
      "cell_type": "code",
      "source": [
        "X.shape[0]"
      ],
      "metadata": {
        "colab": {
          "base_uri": "https://localhost:8080/"
        },
        "id": "qn91STESuV2G",
        "outputId": "38951af1-a792-49f6-aec1-048556f68e07"
      },
      "execution_count": null,
      "outputs": [
        {
          "output_type": "execute_result",
          "data": {
            "text/plain": [
              "60000"
            ]
          },
          "metadata": {},
          "execution_count": 142
        }
      ]
    },
    {
      "cell_type": "code",
      "source": [
        "X.shape[1]"
      ],
      "metadata": {
        "colab": {
          "base_uri": "https://localhost:8080/"
        },
        "id": "SkJuAhHcuXxQ",
        "outputId": "1173d501-b346-423e-be56-67f6499892a7"
      },
      "execution_count": null,
      "outputs": [
        {
          "output_type": "execute_result",
          "data": {
            "text/plain": [
              "1"
            ]
          },
          "metadata": {},
          "execution_count": 143
        }
      ]
    },
    {
      "cell_type": "code",
      "source": [
        "X.shape[2]"
      ],
      "metadata": {
        "colab": {
          "base_uri": "https://localhost:8080/"
        },
        "id": "3DeZXds1uZMd",
        "outputId": "b5d95f9c-a897-4130-93bd-b0da6a7d2a3f"
      },
      "execution_count": null,
      "outputs": [
        {
          "output_type": "execute_result",
          "data": {
            "text/plain": [
              "28"
            ]
          },
          "metadata": {},
          "execution_count": 144
        }
      ]
    },
    {
      "cell_type": "code",
      "source": [
        "X = X.reshape(X.shape[0],X.shape[2]*X.shape[3])"
      ],
      "metadata": {
        "id": "7DeXU2BDuOiX"
      },
      "execution_count": null,
      "outputs": []
    },
    {
      "cell_type": "code",
      "source": [
        "X.shape"
      ],
      "metadata": {
        "colab": {
          "base_uri": "https://localhost:8080/"
        },
        "id": "RjINnBEJugnp",
        "outputId": "596461d8-d8a1-41f0-9172-78380f812c71"
      },
      "execution_count": null,
      "outputs": [
        {
          "output_type": "execute_result",
          "data": {
            "text/plain": [
              "(60000, 784)"
            ]
          },
          "metadata": {},
          "execution_count": 146
        }
      ]
    },
    {
      "cell_type": "code",
      "source": [
        "X = X.T"
      ],
      "metadata": {
        "id": "FzpWFgSuumVj"
      },
      "execution_count": null,
      "outputs": []
    },
    {
      "cell_type": "code",
      "source": [
        "m = np.random.standard_normal((10,784))"
      ],
      "metadata": {
        "id": "w_q5GstOu6Br"
      },
      "execution_count": null,
      "outputs": []
    },
    {
      "cell_type": "code",
      "source": [
        "m.shape,X.shape"
      ],
      "metadata": {
        "colab": {
          "base_uri": "https://localhost:8080/"
        },
        "id": "9B2zb0RLun0Y",
        "outputId": "9bdd6c7c-8bf4-4a38-ce73-f0c0b5b4226f"
      },
      "execution_count": null,
      "outputs": [
        {
          "output_type": "execute_result",
          "data": {
            "text/plain": [
              "((10, 784), (784, 60000))"
            ]
          },
          "metadata": {},
          "execution_count": 149
        }
      ]
    },
    {
      "cell_type": "code",
      "source": [
        "y = m@X"
      ],
      "metadata": {
        "id": "s57Ra0GQvAa3"
      },
      "execution_count": null,
      "outputs": []
    },
    {
      "cell_type": "code",
      "source": [
        "y.shape"
      ],
      "metadata": {
        "colab": {
          "base_uri": "https://localhost:8080/"
        },
        "id": "ltSHW0RnvBxa",
        "outputId": "9f1d0e8b-a4f9-468c-8e6e-e6254f8b4fae"
      },
      "execution_count": null,
      "outputs": [
        {
          "output_type": "execute_result",
          "data": {
            "text/plain": [
              "(10, 60000)"
            ]
          },
          "metadata": {},
          "execution_count": 151
        }
      ]
    },
    {
      "cell_type": "code",
      "source": [
        "y = np.argmax(y, axis=0)"
      ],
      "metadata": {
        "id": "H3u3NxCLvNEb"
      },
      "execution_count": null,
      "outputs": []
    },
    {
      "cell_type": "code",
      "source": [
        "y.shape"
      ],
      "metadata": {
        "colab": {
          "base_uri": "https://localhost:8080/"
        },
        "id": "B9KzW_npvO0t",
        "outputId": "12a8340f-a52e-4ad4-ec82-6e0cff89ddc8"
      },
      "execution_count": null,
      "outputs": [
        {
          "output_type": "execute_result",
          "data": {
            "text/plain": [
              "(60000,)"
            ]
          },
          "metadata": {},
          "execution_count": 153
        }
      ]
    },
    {
      "cell_type": "code",
      "source": [
        "Y.shape"
      ],
      "metadata": {
        "colab": {
          "base_uri": "https://localhost:8080/"
        },
        "id": "EQqlYV3LvSG1",
        "outputId": "e444836a-8747-4fe9-fe00-5dc64a21e075"
      },
      "execution_count": null,
      "outputs": [
        {
          "output_type": "execute_result",
          "data": {
            "text/plain": [
              "(60000,)"
            ]
          },
          "metadata": {},
          "execution_count": 154
        }
      ]
    },
    {
      "cell_type": "code",
      "source": [
        "y"
      ],
      "metadata": {
        "colab": {
          "base_uri": "https://localhost:8080/"
        },
        "id": "FH2Z1vYCvUCR",
        "outputId": "b2f69483-9e10-4851-bd20-fbb73c742474"
      },
      "execution_count": null,
      "outputs": [
        {
          "output_type": "execute_result",
          "data": {
            "text/plain": [
              "array([6, 9, 6, ..., 6, 9, 4])"
            ]
          },
          "metadata": {},
          "execution_count": 155
        }
      ]
    },
    {
      "cell_type": "code",
      "source": [
        "Y"
      ],
      "metadata": {
        "colab": {
          "base_uri": "https://localhost:8080/"
        },
        "id": "Q41hImp6vVQd",
        "outputId": "971584ba-cd5c-4f4b-f611-e41ff35c04ea"
      },
      "execution_count": null,
      "outputs": [
        {
          "output_type": "execute_result",
          "data": {
            "text/plain": [
              "array([5, 0, 4, ..., 5, 6, 8])"
            ]
          },
          "metadata": {},
          "execution_count": 156
        }
      ]
    },
    {
      "cell_type": "code",
      "source": [
        "y == Y"
      ],
      "metadata": {
        "colab": {
          "base_uri": "https://localhost:8080/"
        },
        "id": "PK7wc2ervbWB",
        "outputId": "d268365d-85da-421d-b5f1-5cb46bcf2ee6"
      },
      "execution_count": null,
      "outputs": [
        {
          "output_type": "execute_result",
          "data": {
            "text/plain": [
              "array([False, False, False, ..., False, False, False])"
            ]
          },
          "metadata": {},
          "execution_count": 157
        }
      ]
    },
    {
      "cell_type": "code",
      "source": [
        "np.sum(y == Y)"
      ],
      "metadata": {
        "colab": {
          "base_uri": "https://localhost:8080/"
        },
        "id": "TIN0hNJkvgJm",
        "outputId": "0e08e544-b10f-4c6e-f49d-596bdb5fc24e"
      },
      "execution_count": null,
      "outputs": [
        {
          "output_type": "execute_result",
          "data": {
            "text/plain": [
              "5682"
            ]
          },
          "metadata": {},
          "execution_count": 158
        }
      ]
    },
    {
      "cell_type": "code",
      "source": [
        "len(Y)"
      ],
      "metadata": {
        "colab": {
          "base_uri": "https://localhost:8080/"
        },
        "id": "U-dMxI--vk6T",
        "outputId": "1d9d4fac-4503-441c-d8dd-78d82932d5d5"
      },
      "execution_count": null,
      "outputs": [
        {
          "output_type": "execute_result",
          "data": {
            "text/plain": [
              "60000"
            ]
          },
          "metadata": {},
          "execution_count": 159
        }
      ]
    },
    {
      "cell_type": "code",
      "source": [
        "acc = np.sum(y == Y)/len(Y)"
      ],
      "metadata": {
        "id": "dPL4O9yXvor9"
      },
      "execution_count": null,
      "outputs": []
    },
    {
      "cell_type": "code",
      "source": [
        "acc"
      ],
      "metadata": {
        "colab": {
          "base_uri": "https://localhost:8080/"
        },
        "id": "oGVVaASUvvMK",
        "outputId": "81ff1b31-ce30-4a7c-a1d5-0b50037809de"
      },
      "execution_count": null,
      "outputs": [
        {
          "output_type": "execute_result",
          "data": {
            "text/plain": [
              "0.0947"
            ]
          },
          "metadata": {},
          "execution_count": 161
        }
      ]
    },
    {
      "cell_type": "code",
      "source": [
        "m = np.random.standard_normal((10,784))\n",
        "\n",
        "y = m@X\n",
        "\n",
        "y = np.argmax(y, axis=0)\n",
        "\n",
        "acc = np.sum(y == Y)/len(Y)\n",
        "\n",
        "print(acc)"
      ],
      "metadata": {
        "colab": {
          "base_uri": "https://localhost:8080/"
        },
        "id": "2pcrGVBNt15i",
        "outputId": "a1c085d5-3f6d-4634-f683-f492ccce158e"
      },
      "execution_count": null,
      "outputs": [
        {
          "output_type": "stream",
          "name": "stdout",
          "text": [
            "0.10495\n"
          ]
        }
      ]
    },
    {
      "cell_type": "code",
      "source": [],
      "metadata": {
        "id": "XYkNlQ-Mv0-G"
      },
      "execution_count": null,
      "outputs": []
    },
    {
      "cell_type": "code",
      "source": [
        "acc_best = 0\n",
        "m_best = 0\n",
        "\n",
        "for i in range(100):\n",
        "\n",
        "    m = np.random.standard_normal((10,784))\n",
        "\n",
        "    y = m@X\n",
        "\n",
        "    y = np.argmax(y, axis=0)\n",
        "\n",
        "    acc = np.sum(y == Y)/len(Y)\n",
        "\n",
        "    if acc > acc_best:\n",
        "        acc_best = acc\n",
        "        m_best = m\n",
        "\n",
        "        print(acc_best)"
      ],
      "metadata": {
        "id": "RZnwvYgUwKOV",
        "colab": {
          "base_uri": "https://localhost:8080/"
        },
        "outputId": "f87045d0-8894-48dc-95f9-8af82f7f7d6d"
      },
      "execution_count": null,
      "outputs": [
        {
          "output_type": "stream",
          "name": "stdout",
          "text": [
            "0.05591666666666667\n",
            "0.12541666666666668\n",
            "0.1513\n",
            "0.17286666666666667\n",
            "0.1862\n"
          ]
        }
      ]
    },
    {
      "cell_type": "code",
      "source": [],
      "metadata": {
        "id": "ggbDiUhQwKQq"
      },
      "execution_count": null,
      "outputs": []
    },
    {
      "cell_type": "code",
      "source": [
        "acc_best = 0\n",
        "m_best = 0\n",
        "\n",
        "for i in range(10000):\n",
        "\n",
        "    m = m_best + np.random.standard_normal((10,784))\n",
        "\n",
        "    y = m@X\n",
        "\n",
        "    y = np.argmax(y, axis=0)\n",
        "\n",
        "    acc = np.sum(y == Y)/len(Y)\n",
        "\n",
        "    if acc > acc_best:\n",
        "        acc_best = acc\n",
        "        m_best = m\n",
        "\n",
        "        print(acc_best)"
      ],
      "metadata": {
        "id": "dVp2Pn8iwKSQ",
        "colab": {
          "base_uri": "https://localhost:8080/"
        },
        "outputId": "1ee1cd43-42d9-449c-b738-dbedf62d557d"
      },
      "execution_count": null,
      "outputs": [
        {
          "output_type": "stream",
          "name": "stdout",
          "text": [
            "0.06936666666666666\n",
            "0.13363333333333333\n",
            "0.14995\n",
            "0.16803333333333334\n",
            "0.1813\n",
            "0.1843\n",
            "0.19786666666666666\n",
            "0.20061666666666667\n",
            "0.20516666666666666\n",
            "0.21011666666666667\n",
            "0.21701666666666666\n",
            "0.22741666666666666\n",
            "0.24216666666666667\n",
            "0.24801666666666666\n",
            "0.2754666666666667\n",
            "0.27648333333333336\n",
            "0.27923333333333333\n",
            "0.2873\n",
            "0.28786666666666666\n",
            "0.29075\n",
            "0.30135\n",
            "0.30215\n",
            "0.31235\n",
            "0.31321666666666664\n",
            "0.3147333333333333\n",
            "0.32066666666666666\n",
            "0.33068333333333333\n",
            "0.3323833333333333\n",
            "0.33475\n",
            "0.3367833333333333\n",
            "0.3377\n",
            "0.3377833333333333\n",
            "0.34141666666666665\n",
            "0.3505333333333333\n",
            "0.35538333333333333\n",
            "0.35805\n",
            "0.3611333333333333\n",
            "0.36293333333333333\n",
            "0.36305\n",
            "0.36638333333333334\n",
            "0.3687\n",
            "0.3716333333333333\n",
            "0.37175\n",
            "0.37223333333333336\n",
            "0.37583333333333335\n",
            "0.37998333333333334\n",
            "0.387\n",
            "0.3914166666666667\n",
            "0.3916\n",
            "0.39286666666666664\n",
            "0.39795\n",
            "0.39876666666666666\n",
            "0.4010166666666667\n",
            "0.41481666666666667\n",
            "0.4184833333333333\n",
            "0.4301333333333333\n",
            "0.43155\n",
            "0.4322666666666667\n",
            "0.43316666666666664\n",
            "0.43821666666666664\n",
            "0.44345\n",
            "0.44555\n",
            "0.45365\n",
            "0.45968333333333333\n",
            "0.4616166666666667\n",
            "0.46408333333333335\n",
            "0.4646\n",
            "0.46475\n",
            "0.46505\n",
            "0.46895\n",
            "0.46971666666666667\n",
            "0.47101666666666664\n",
            "0.47495\n",
            "0.47781666666666667\n",
            "0.47841666666666666\n",
            "0.47988333333333333\n",
            "0.48146666666666665\n",
            "0.4900333333333333\n",
            "0.4912166666666667\n",
            "0.49273333333333336\n",
            "0.49443333333333334\n",
            "0.4956333333333333\n",
            "0.49583333333333335\n",
            "0.49661666666666665\n",
            "0.4970833333333333\n",
            "0.49803333333333333\n",
            "0.49993333333333334\n",
            "0.5020666666666667\n",
            "0.50745\n",
            "0.5103333333333333\n",
            "0.5122\n",
            "0.5131833333333333\n",
            "0.5157\n",
            "0.5161166666666667\n",
            "0.5190833333333333\n",
            "0.5247333333333334\n",
            "0.5304333333333333\n",
            "0.5354833333333333\n",
            "0.5373833333333333\n",
            "0.5374666666666666\n",
            "0.53885\n",
            "0.54055\n",
            "0.5425666666666666\n",
            "0.5426666666666666\n",
            "0.54385\n",
            "0.5454166666666667\n",
            "0.5455833333333333\n",
            "0.54995\n",
            "0.5514833333333333\n",
            "0.55405\n",
            "0.5577833333333333\n",
            "0.5609\n",
            "0.5647666666666666\n",
            "0.56535\n",
            "0.5664\n",
            "0.5702666666666667\n",
            "0.5715333333333333\n",
            "0.57305\n",
            "0.5756333333333333\n",
            "0.57565\n",
            "0.5774166666666667\n",
            "0.57865\n",
            "0.5790666666666666\n",
            "0.58075\n",
            "0.5812\n",
            "0.5829833333333333\n",
            "0.5846333333333333\n",
            "0.5857333333333333\n",
            "0.5865833333333333\n",
            "0.5867833333333333\n",
            "0.5876166666666667\n",
            "0.5884333333333334\n",
            "0.5887\n",
            "0.5906166666666667\n",
            "0.59275\n",
            "0.59525\n",
            "0.5962\n",
            "0.5974833333333334\n",
            "0.5994666666666667\n",
            "0.5999333333333333\n",
            "0.6007333333333333\n",
            "0.60455\n",
            "0.6059333333333333\n",
            "0.6077\n",
            "0.6109666666666667\n",
            "0.6110166666666667\n",
            "0.6115333333333334\n",
            "0.6123333333333333\n",
            "0.61325\n",
            "0.61415\n",
            "0.61425\n",
            "0.6145166666666667\n",
            "0.6148\n",
            "0.616\n",
            "0.6167333333333334\n",
            "0.6168666666666667\n",
            "0.6169666666666667\n",
            "0.6170833333333333\n",
            "0.6183333333333333\n",
            "0.6206\n",
            "0.6226\n",
            "0.6246333333333334\n",
            "0.6253\n",
            "0.6263333333333333\n",
            "0.6265333333333334\n",
            "0.62655\n",
            "0.6266333333333334\n",
            "0.627\n",
            "0.6277\n",
            "0.6299666666666667\n",
            "0.6311333333333333\n",
            "0.63165\n",
            "0.6327666666666667\n",
            "0.63345\n",
            "0.6340166666666667\n",
            "0.6358166666666667\n",
            "0.6364\n",
            "0.63675\n",
            "0.6372666666666666\n",
            "0.639\n",
            "0.6395\n",
            "0.6395666666666666\n",
            "0.6405666666666666\n",
            "0.6406666666666667\n",
            "0.6411166666666667\n",
            "0.6418\n",
            "0.64255\n",
            "0.6425833333333333\n",
            "0.64275\n",
            "0.6428166666666667\n",
            "0.6446666666666667\n",
            "0.6447666666666667\n",
            "0.6450333333333333\n",
            "0.6459\n",
            "0.6462833333333333\n",
            "0.6473833333333333\n",
            "0.6479333333333334\n",
            "0.6487\n",
            "0.6494833333333333\n",
            "0.6503166666666667\n",
            "0.65145\n",
            "0.6521833333333333\n",
            "0.6522666666666667\n",
            "0.65255\n",
            "0.6526333333333333\n",
            "0.6528\n",
            "0.6534\n",
            "0.6556166666666666\n",
            "0.6562666666666667\n",
            "0.6566166666666666\n",
            "0.6573333333333333\n",
            "0.6576333333333333\n",
            "0.6577666666666667\n",
            "0.6586\n",
            "0.6588666666666667\n",
            "0.6597833333333334\n",
            "0.65995\n",
            "0.6605166666666666\n",
            "0.6613\n",
            "0.6620166666666667\n",
            "0.6636166666666666\n",
            "0.6640666666666667\n",
            "0.6647833333333333\n",
            "0.6657166666666666\n",
            "0.66605\n",
            "0.6668\n",
            "0.6678\n",
            "0.6679\n",
            "0.6682333333333333\n",
            "0.6687\n",
            "0.6689166666666667\n",
            "0.6691666666666667\n",
            "0.6693166666666667\n",
            "0.67045\n",
            "0.6705\n",
            "0.6709666666666667\n",
            "0.671\n",
            "0.6710166666666667\n",
            "0.6713333333333333\n",
            "0.6714833333333333\n",
            "0.6715333333333333\n",
            "0.6721666666666667\n",
            "0.6725\n",
            "0.6735\n",
            "0.6739833333333334\n",
            "0.6746333333333333\n",
            "0.6754\n",
            "0.6775333333333333\n",
            "0.6783333333333333\n",
            "0.6790666666666667\n",
            "0.6795333333333333\n",
            "0.68055\n",
            "0.6809833333333334\n",
            "0.6811666666666667\n",
            "0.6815833333333333\n",
            "0.6819\n",
            "0.6820833333333334\n",
            "0.68275\n",
            "0.6832333333333334\n",
            "0.6832666666666667\n",
            "0.6836833333333333\n",
            "0.6837166666666666\n",
            "0.6837666666666666\n",
            "0.6840166666666667\n",
            "0.6845666666666667\n",
            "0.6849\n",
            "0.6853\n",
            "0.68585\n",
            "0.6858833333333333\n",
            "0.6860333333333334\n",
            "0.6868166666666666\n",
            "0.68735\n",
            "0.6879166666666666\n",
            "0.6880666666666667\n",
            "0.6890166666666667\n",
            "0.6892666666666667\n",
            "0.69045\n",
            "0.6906\n",
            "0.6909333333333333\n",
            "0.6919\n",
            "0.6924\n",
            "0.69245\n",
            "0.6928833333333333\n",
            "0.6930833333333334\n",
            "0.6933833333333334\n",
            "0.6936333333333333\n",
            "0.6937166666666666\n",
            "0.6939333333333333\n",
            "0.6942333333333334\n",
            "0.6953833333333334\n",
            "0.6960333333333333\n",
            "0.6963\n",
            "0.69665\n",
            "0.6968166666666666\n",
            "0.6971666666666667\n",
            "0.6972833333333334\n",
            "0.6977\n",
            "0.6980666666666666\n",
            "0.6986166666666667\n",
            "0.6989833333333333\n",
            "0.6994666666666667\n",
            "0.6996166666666667\n",
            "0.69995\n",
            "0.7015833333333333\n",
            "0.7016666666666667\n",
            "0.7019666666666666\n",
            "0.7030833333333333\n",
            "0.704\n",
            "0.7042166666666667\n",
            "0.70425\n",
            "0.7048166666666666\n",
            "0.7048833333333333\n",
            "0.7055833333333333\n",
            "0.7066833333333333\n",
            "0.7076166666666667\n",
            "0.70985\n",
            "0.7098833333333333\n",
            "0.71005\n",
            "0.7108\n",
            "0.7117666666666667\n",
            "0.7122166666666667\n",
            "0.7125833333333333\n",
            "0.71315\n",
            "0.7132666666666667\n",
            "0.7133333333333334\n",
            "0.7133833333333334\n",
            "0.7135166666666667\n",
            "0.71385\n",
            "0.7148666666666667\n",
            "0.7154666666666667\n",
            "0.7166666666666667\n",
            "0.7168666666666667\n",
            "0.7170666666666666\n",
            "0.7177333333333333\n",
            "0.7181166666666666\n",
            "0.7194\n",
            "0.7195666666666667\n",
            "0.7207\n",
            "0.7213833333333334\n",
            "0.7215833333333334\n",
            "0.72185\n",
            "0.7228833333333333\n",
            "0.7234833333333334\n",
            "0.7241333333333333\n",
            "0.7248166666666667\n",
            "0.72485\n",
            "0.7250166666666666\n",
            "0.7255\n",
            "0.72555\n",
            "0.7259\n",
            "0.7268666666666667\n",
            "0.7269\n",
            "0.727\n",
            "0.7275166666666667\n",
            "0.7277666666666667\n",
            "0.7278333333333333\n",
            "0.7287333333333333\n",
            "0.72955\n",
            "0.7296166666666667\n",
            "0.7305333333333334\n",
            "0.7307\n",
            "0.7307333333333333\n",
            "0.7310666666666666\n",
            "0.7314333333333334\n",
            "0.7319\n",
            "0.7328333333333333\n",
            "0.7329\n",
            "0.7330333333333333\n",
            "0.7337833333333333\n",
            "0.7339166666666667\n",
            "0.735\n",
            "0.73545\n",
            "0.7354666666666667\n",
            "0.7357166666666667\n",
            "0.7362\n",
            "0.73645\n",
            "0.73725\n",
            "0.7384666666666667\n",
            "0.7386666666666667\n",
            "0.7390333333333333\n",
            "0.7398833333333333\n",
            "0.7409333333333333\n",
            "0.74095\n",
            "0.7412\n",
            "0.7413\n",
            "0.7418333333333333\n",
            "0.74265\n",
            "0.7432666666666666\n",
            "0.7435333333333334\n",
            "0.7443833333333333\n",
            "0.7458\n",
            "0.7464\n",
            "0.74655\n",
            "0.7466\n",
            "0.7472\n",
            "0.7473666666666666\n",
            "0.74755\n",
            "0.7479333333333333\n",
            "0.748\n",
            "0.7481333333333333\n",
            "0.7484333333333333\n",
            "0.7488\n",
            "0.74905\n",
            "0.74915\n",
            "0.74945\n",
            "0.7501166666666667\n",
            "0.7501833333333333\n",
            "0.7502166666666666\n",
            "0.7510166666666667\n",
            "0.7511666666666666\n",
            "0.75185\n",
            "0.7519\n",
            "0.7519333333333333\n",
            "0.7521833333333333\n",
            "0.7524166666666666\n",
            "0.75275\n",
            "0.7532833333333333\n",
            "0.7536666666666667\n",
            "0.7537166666666667\n",
            "0.7538\n",
            "0.7551833333333333\n",
            "0.7552833333333333\n",
            "0.7553666666666666\n",
            "0.75645\n",
            "0.7570166666666667\n",
            "0.7571166666666667\n",
            "0.7574833333333333\n",
            "0.7575666666666667\n",
            "0.7579\n",
            "0.7580666666666667\n",
            "0.7582\n",
            "0.75845\n",
            "0.7587666666666667\n",
            "0.7590833333333333\n",
            "0.7593833333333333\n",
            "0.7598666666666667\n",
            "0.7598833333333334\n",
            "0.7599166666666667\n",
            "0.7599666666666667\n",
            "0.76015\n",
            "0.7602666666666666\n",
            "0.7612\n",
            "0.76125\n",
            "0.7617833333333334\n",
            "0.76215\n",
            "0.7625333333333333\n",
            "0.76335\n",
            "0.7636333333333334\n",
            "0.7638333333333334\n",
            "0.76425\n",
            "0.7644333333333333\n",
            "0.7649\n",
            "0.7650666666666667\n",
            "0.76525\n",
            "0.7653166666666666\n",
            "0.76535\n",
            "0.7653666666666666\n",
            "0.76555\n",
            "0.7659333333333334\n",
            "0.766\n",
            "0.76605\n",
            "0.76615\n",
            "0.7664166666666666\n",
            "0.7669\n",
            "0.76735\n",
            "0.7679333333333334\n",
            "0.7686333333333333\n",
            "0.7689666666666667\n",
            "0.76915\n",
            "0.7692666666666667\n",
            "0.7695\n",
            "0.7697\n",
            "0.7697666666666667\n",
            "0.7702333333333333\n",
            "0.7702666666666667\n",
            "0.7703833333333333\n",
            "0.77055\n",
            "0.7706166666666666\n",
            "0.7706666666666667\n",
            "0.7709166666666667\n",
            "0.7709333333333334\n",
            "0.7713666666666666\n",
            "0.7713833333333333\n",
            "0.7715333333333333\n",
            "0.7715666666666666\n",
            "0.77175\n",
            "0.7718166666666667\n",
            "0.7720833333333333\n",
            "0.7721166666666667\n",
            "0.7725833333333333\n",
            "0.7727666666666667\n",
            "0.7729\n",
            "0.7736666666666666\n",
            "0.7738\n",
            "0.7740333333333334\n",
            "0.7740666666666667\n",
            "0.7742166666666667\n",
            "0.7744333333333333\n",
            "0.7744666666666666\n",
            "0.7748666666666667\n",
            "0.7749166666666667\n",
            "0.7749333333333334\n",
            "0.7751166666666667\n",
            "0.7752333333333333\n",
            "0.7753333333333333\n",
            "0.7756\n",
            "0.7759333333333334\n",
            "0.7760833333333333\n",
            "0.7761666666666667\n",
            "0.7765833333333333\n",
            "0.7767\n",
            "0.7774666666666666\n",
            "0.7774833333333333\n"
          ]
        }
      ]
    },
    {
      "cell_type": "code",
      "source": [
        "m_best = 0 \n",
        "acc_best = 0\n",
        "\n",
        "for i in range(1000):\n",
        "    \n",
        "    m = np.random.standard_normal((10,784))\n",
        "\n",
        "    y = m@X\n",
        "\n",
        "    y = np.argmax(y, axis=0)\n",
        "\n",
        "    acc = np.sum(y == Y)/len(Y)\n",
        "\n",
        "\n",
        "    if acc > acc_best:\n",
        "        print(acc)\n",
        "        m_best = m\n",
        "        acc_best = acc"
      ],
      "metadata": {
        "id": "zktnb-suxqHH"
      },
      "execution_count": null,
      "outputs": []
    },
    {
      "cell_type": "code",
      "source": [],
      "metadata": {
        "id": "sAsEfgdSyS7f"
      },
      "execution_count": null,
      "outputs": []
    },
    {
      "cell_type": "code",
      "source": [
        "def GPU(data):\n",
        "    return torch.tensor(data, requires_grad=True, dtype=torch.float, device=torch.device('cuda'))\n",
        "\n",
        "def GPU_data(data):\n",
        "    return torch.tensor(data, requires_grad=False, dtype=torch.float, device=torch.device('cuda'))"
      ],
      "metadata": {
        "id": "Z5ijFhoNUwiX"
      },
      "execution_count": null,
      "outputs": []
    },
    {
      "cell_type": "code",
      "source": [
        "X = GPU_data(X)\n",
        "Y = GPU_data(Y)\n",
        "X_test = GPU_data(X_test)\n",
        "Y_test = GPU_data(Y_test)"
      ],
      "metadata": {
        "id": "albma-mgUzZ_",
        "colab": {
          "base_uri": "https://localhost:8080/"
        },
        "outputId": "353965a3-7f11-48b5-837f-3e241eaebe78"
      },
      "execution_count": null,
      "outputs": [
        {
          "output_type": "stream",
          "name": "stderr",
          "text": [
            "<ipython-input-52-c3d856de2607>:5: UserWarning: To copy construct from a tensor, it is recommended to use sourceTensor.clone().detach() or sourceTensor.clone().detach().requires_grad_(True), rather than torch.tensor(sourceTensor).\n",
            "  return torch.tensor(data, requires_grad=False, dtype=torch.float, device=torch.device('cuda'))\n"
          ]
        }
      ]
    },
    {
      "cell_type": "code",
      "source": [
        "M = GPU_data(np.random.random((100,10,784)))\n",
        "M.shape,X.shape\n",
        "(M@X).shape\n",
        "(torch.argmax((M@X), axis=1) == Y).shape\n",
        "Y.shape\n",
        "y = torch.argmax((M@X), axis=1) \n",
        "score = ((y == Y).sum(1)/len(Y))\n",
        "s = torch.argsort(score,descending=True)\n",
        "score[s]"
      ],
      "metadata": {
        "id": "xaouMZqayjg2",
        "colab": {
          "base_uri": "https://localhost:8080/"
        },
        "outputId": "d9e15aac-d09e-4258-9630-9a06e39a06ea"
      },
      "execution_count": null,
      "outputs": [
        {
          "output_type": "execute_result",
          "data": {
            "text/plain": [
              "tensor([0.1939, 0.1614, 0.1581, 0.1515, 0.1445, 0.1439, 0.1409, 0.1407, 0.1391,\n",
              "        0.1381, 0.1374, 0.1354, 0.1352, 0.1343, 0.1331, 0.1330, 0.1328, 0.1319,\n",
              "        0.1316, 0.1294, 0.1294, 0.1293, 0.1289, 0.1278, 0.1278, 0.1277, 0.1273,\n",
              "        0.1265, 0.1261, 0.1259, 0.1255, 0.1254, 0.1249, 0.1230, 0.1223, 0.1199,\n",
              "        0.1196, 0.1196, 0.1189, 0.1185, 0.1172, 0.1165, 0.1157, 0.1138, 0.1095,\n",
              "        0.1079, 0.1073, 0.1072, 0.1054, 0.1051, 0.1043, 0.1035, 0.1027, 0.1024,\n",
              "        0.1013, 0.1012, 0.0997, 0.0997, 0.0994, 0.0992, 0.0984, 0.0969, 0.0963,\n",
              "        0.0953, 0.0949, 0.0948, 0.0945, 0.0941, 0.0929, 0.0927, 0.0923, 0.0921,\n",
              "        0.0912, 0.0901, 0.0890, 0.0884, 0.0857, 0.0845, 0.0841, 0.0840, 0.0787,\n",
              "        0.0782, 0.0775, 0.0768, 0.0768, 0.0750, 0.0744, 0.0739, 0.0738, 0.0737,\n",
              "        0.0720, 0.0704, 0.0691, 0.0671, 0.0655, 0.0644, 0.0621, 0.0600, 0.0409,\n",
              "        0.0320], device='cuda:0')"
            ]
          },
          "metadata": {},
          "execution_count": 82
        }
      ]
    },
    {
      "cell_type": "code",
      "source": [],
      "metadata": {
        "id": "jaBan-ZV21fG"
      },
      "execution_count": null,
      "outputs": []
    }
  ]
}